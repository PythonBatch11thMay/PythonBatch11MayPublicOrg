{
  "nbformat": 4,
  "nbformat_minor": 0,
  "metadata": {
    "colab": {
      "private_outputs": true,
      "provenance": [],
      "authorship_tag": "ABX9TyNIVgAbB3i102heYW9TqLU9",
      "include_colab_link": true
    },
    "kernelspec": {
      "name": "python3",
      "display_name": "Python 3"
    },
    "language_info": {
      "name": "python"
    }
  },
  "cells": [
    {
      "cell_type": "markdown",
      "metadata": {
        "id": "view-in-github",
        "colab_type": "text"
      },
      "source": [
        "<a href=\"https://colab.research.google.com/github/vaishtiwari74/PythonBatch11MayPublic/blob/main/pratice.ipynb\" target=\"_parent\"><img src=\"https://colab.research.google.com/assets/colab-badge.svg\" alt=\"Open In Colab\"/></a>"
      ]
    },
    {
      "cell_type": "code",
      "execution_count": null,
      "metadata": {
        "id": "ZE9wg7wek5_-"
      },
      "outputs": [],
      "source": [
        "#Python program to print a multiplication table of a given number\n",
        "n=5\n",
        "i=1\n",
        "while i<=10:\n",
        "  print(i*n)\n",
        "  i+=1"
      ]
    },
    {
      "cell_type": "code",
      "source": [
        "#Print the first 10 natural numbers using for loop.\n",
        "for i in range(1,11):\n",
        "  print(i)"
      ],
      "metadata": {
        "id": "Fq-nXANslCIC"
      },
      "execution_count": null,
      "outputs": []
    },
    {
      "cell_type": "code",
      "source": [
        "#Python program to calculate the sum of all numbers from 1 to a given number.\n",
        "sum=0\n",
        "for i in range(1,5):\n",
        "  sum=sum+i\n",
        "\n",
        "print(sum)"
      ],
      "metadata": {
        "id": "sxf_Vz_zlCZk"
      },
      "execution_count": null,
      "outputs": []
    },
    {
      "cell_type": "code",
      "source": [
        "#Python program to print all the even numbers within the given range.\n",
        "n=int(input())\n",
        "for i in range(1,n):\n",
        "  if(i%2==0):\n",
        "    print(f\"{i} is even\")\n",
        "  else:\n",
        "    print(f\"{i} is odd\")"
      ],
      "metadata": {
        "id": "2HO8nMiqmyay"
      },
      "execution_count": null,
      "outputs": []
    },
    {
      "cell_type": "code",
      "source": [
        "sum=0\n",
        "for i in range(1,10):\n",
        "  if(i%2==0):\n",
        "    sum=sum+i\n",
        "    print(i)\n",
        "\n",
        "print(sum)"
      ],
      "metadata": {
        "id": "-K2J4BeBsTM3"
      },
      "execution_count": null,
      "outputs": []
    },
    {
      "cell_type": "code",
      "source": [
        "var1=1\n",
        "var2=2\n",
        "var=\"3\"\n",
        "print(var1+var2+var3)"
      ],
      "metadata": {
        "id": "eZHqF1b8wc__"
      },
      "execution_count": null,
      "outputs": []
    },
    {
      "cell_type": "code",
      "source": [
        "age = 36\n",
        "txt = \"My name is John, and I am {}\"\n",
        "print(txt.format(age))"
      ],
      "metadata": {
        "id": "8KE2c4k1wdGF"
      },
      "execution_count": null,
      "outputs": []
    },
    {
      "cell_type": "code",
      "source": [
        "print(10 == 9)\n"
      ],
      "metadata": {
        "id": "P331f9t-wdLP"
      },
      "execution_count": null,
      "outputs": []
    },
    {
      "cell_type": "code",
      "source": [
        "fruits = [\"apple\", \"banana\"]\n",
        "if \"apple\" in fruits:\n",
        "  print(\"Yes, apple is a fruit!\")"
      ],
      "metadata": {
        "id": "lpNfjct4pv1W"
      },
      "execution_count": null,
      "outputs": []
    },
    {
      "cell_type": "code",
      "source": [
        "fruits = [\"apple\", \"banana\", \"cherry\", \"orange\", \"kiwi\", \"melon\", \"mango\"]\n",
        "print(fruits[2:5])"
      ],
      "metadata": {
        "id": "9JQdKK4rpwHw"
      },
      "execution_count": null,
      "outputs": []
    },
    {
      "cell_type": "code",
      "source": [
        "i = 1\n",
        "while i < 6:\n",
        "  print(i)\n",
        "  i += 1"
      ],
      "metadata": {
        "id": "YUJv8bPIpwRY"
      },
      "execution_count": null,
      "outputs": []
    },
    {
      "cell_type": "code",
      "source": [
        "i = 1\n",
        "while i < 6:\n",
        "  if i == 3:\n",
        "    break\n",
        "\n",
        "  i += 1"
      ],
      "metadata": {
        "id": "_lHLqSfHm6-3"
      },
      "execution_count": null,
      "outputs": []
    },
    {
      "cell_type": "code",
      "source": [
        "salary = int(input(\"enter the salary : \"))\n",
        "print(\"salary\")\n",
        "year_of_service=int(input(\"enter the year of service :\"))\n",
        "print(\"year of salary\")\n",
        "if(year_of_service >5):\n",
        "  print(\"Bonus is\",salary*5)\n",
        "else:\n",
        "  print(\"no,Bonus\")"
      ],
      "metadata": {
        "id": "UsfSSb6Im7BG"
      },
      "execution_count": null,
      "outputs": []
    },
    {
      "cell_type": "code",
      "source": [
        "length=int(input(\"enter the length: \"))\n",
        "breadth=int(input(\"enter the length: \"))\n",
        "if(length==breadth):\n",
        "  print( \"it is square\")\n",
        "else:\n",
        "  print(\" it is not square, it is rectangle\")\n"
      ],
      "metadata": {
        "id": "y8DDqgVAm7Do"
      },
      "execution_count": null,
      "outputs": []
    },
    {
      "cell_type": "code",
      "source": [
        "quantity=int(input(\"enter the quantity : \"))\n",
        "print(\"quantity\")\n",
        "if(quantity*100>1000):\n",
        "  print(\"cost is\",(quantity*100)-(.1*quantity*100))\n",
        "else:\n",
        "  print(\"cost is\",quantity*100),"
      ],
      "metadata": {
        "id": "rPurlBG61e-e"
      },
      "execution_count": null,
      "outputs": []
    },
    {
      "cell_type": "code",
      "source": [
        "4held_class=int(input())\n",
        "print(held_class)\n",
        "attend_class=int(input())\n",
        "print(attend_class)\n",
        "atten=(((attend_class)/(held_class))*100)\n",
        "print(\"attendance=\", atten)\n",
        "if(atten>=75):\n",
        "  print(\"allowed to sit in exam\")\n",
        "else:\n",
        "  print(\"not allowed to sit in exam\")"
      ],
      "metadata": {
        "id": "GjAYxSrA6jAr"
      },
      "execution_count": null,
      "outputs": []
    },
    {
      "cell_type": "code",
      "source": [
        "marks=int(input(\"enter the marks : \"))\n",
        "if(marks>=80):\n",
        "  print(\"A\")\n",
        "elif(marks<=80 and marks>=70):\n",
        "  print(\"B\")\n",
        "elif(marks<=60 and marks>=50):\n",
        "  print(\"C\")\n",
        "elif(marks<=50 and marks>=45):\n",
        "  print(\"D\")\n",
        "elif(marks<=45 and marks>=25):\n",
        "  print(\"E\")\n",
        "else:\n",
        "  print(\"HHH\")"
      ],
      "metadata": {
        "id": "8lWn7UTAkFra"
      },
      "execution_count": null,
      "outputs": []
    },
    {
      "cell_type": "code",
      "source": [
        "# strings\n",
        "\n",
        "str=\"Refrigerator\"\n",
        "print(len(str))"
      ],
      "metadata": {
        "id": "qUn4A8NUkG2u"
      },
      "execution_count": null,
      "outputs": []
    },
    {
      "cell_type": "code",
      "source": [
        "a = raw_input()\n",
        "for i in a:\n",
        "  print(i)"
      ],
      "metadata": {
        "id": "1bUJM391q9Y-"
      },
      "execution_count": null,
      "outputs": []
    },
    {
      "cell_type": "code",
      "source": [
        "print(\"hello\")"
      ],
      "metadata": {
        "id": "AX99tfyFq9oA"
      },
      "execution_count": null,
      "outputs": []
    }
  ]
}