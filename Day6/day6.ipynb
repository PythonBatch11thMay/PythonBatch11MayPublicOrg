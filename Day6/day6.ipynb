{
  "nbformat": 4,
  "nbformat_minor": 0,
  "metadata": {
    "colab": {
      "private_outputs": true,
      "provenance": [],
      "authorship_tag": "ABX9TyPqYsX/ghVGAJkIgt92Lt47",
      "include_colab_link": true
    },
    "kernelspec": {
      "name": "python3",
      "display_name": "Python 3"
    },
    "language_info": {
      "name": "python"
    }
  },
  "cells": [
    {
      "cell_type": "markdown",
      "metadata": {
        "id": "view-in-github",
        "colab_type": "text"
      },
      "source": [
        "<a href=\"https://colab.research.google.com/github/PythonBatch11thMay/PythonBatch11MayPublicOrg/blob/main/Day6/day6.ipynb\" target=\"_parent\"><img src=\"https://colab.research.google.com/assets/colab-badge.svg\" alt=\"Open In Colab\"/></a>"
      ]
    },
    {
      "cell_type": "markdown",
      "source": [
        "# **1. Defining and Calling Functions**\n",
        "A function in Python is defined using the def keyword, followed by the function name and parentheses (). Inside the parentheses, you can define parameters. The code block within every function starts with a colon : and is indented."
      ],
      "metadata": {
        "id": "2Ve9q1HFuSck"
      }
    },
    {
      "cell_type": "code",
      "source": [
        "def greet(name):\n",
        "    return f\"Hello, {name}!\"\n",
        "\n",
        "# Calling the function\n",
        "print(greet(\"Alice\"))  # Output: Hello, Alice!\n"
      ],
      "metadata": {
        "id": "bKxIUT-8ub_u"
      },
      "execution_count": null,
      "outputs": []
    },
    {
      "cell_type": "markdown",
      "source": [
        "# **2. Return Value**\n",
        "bold textA function can return a value using the return statement. If a function doesn't explicitly return a value, it implicitly returns None."
      ],
      "metadata": {
        "id": "iyPUQ6xhujSk"
      }
    },
    {
      "cell_type": "code",
      "source": [
        "def add(a, b):\n",
        "    return a + b\n",
        "\n",
        "result = add(3, 5)  # result is 8\n",
        "\n",
        "def get_coordinates():\n",
        "    x = 5\n",
        "    y = 10\n",
        "    return x, y\n",
        "\n",
        "coords = get_coordinates()  # coords is (5, 10)\n",
        "x, y = get_coordinates()  # x is 5, y is 10\n",
        "\n",
        "\n",
        "def calculate_statistics(numbers):\n",
        "    total = sum(numbers)\n",
        "    count = len(numbers)\n",
        "    average = total / count\n",
        "    return total, count, average\n",
        "\n",
        "# Calling the function\n",
        "stats = calculate_statistics([2, 4, 6, 8, 10])\n",
        "print(stats)  # Output: (30, 5, 6.0)\n",
        "total, count, average = calculate_statistics([2, 4, 6, 8, 10])\n",
        "print(f\"Total: {total}, Count: {count}, Average: {average}\")\n",
        "# Output: Total: 30, Count: 5, Average: 6.0\n",
        "\n"
      ],
      "metadata": {
        "id": "W_zaxDfJuj4G"
      },
      "execution_count": null,
      "outputs": []
    },
    {
      "cell_type": "markdown",
      "source": [
        "# **4. First-Class Objects**\n",
        "Functions in Python are first-class objects, which means they can be passed around and used as arguments, just like any other object (string, int, float, list, etc.)."
      ],
      "metadata": {
        "id": "3vkNfgzDukG1"
      }
    },
    {
      "cell_type": "code",
      "source": [
        "def shout(text):\n",
        "    return text.upper()\n",
        "\n",
        "def whisper(text):\n",
        "    return text.lower()\n",
        "\n",
        "def greet(func):\n",
        "    greeting = func(\"Hello, World\")\n",
        "    print(greeting)\n",
        "\n",
        "greet(shout)  # Output: HELLO, WORLD\n",
        "greet(whisper)  # Output: hello, world\n",
        "\n",
        "\n",
        "def outer_function(text):\n",
        "    def inner_function():\n",
        "        print(text)\n",
        "    inner_function()\n",
        "\n",
        "outer_function(\"Hello from inner function!\")  # Output: Hello from inner function!\n"
      ],
      "metadata": {
        "id": "e7NuMX0Lukc8"
      },
      "execution_count": null,
      "outputs": []
    },
    {
      "cell_type": "markdown",
      "source": [
        "# **6. Recursive Functions**\n",
        "A function that calls itself is known as a recursive function. This is often used for solving problems that can be broken down into smaller, similar sub-problems."
      ],
      "metadata": {
        "id": "8HxZEgrevkMT"
      }
    },
    {
      "cell_type": "code",
      "source": [
        "def factorial(n):\n",
        "    if n == 1:\n",
        "        return 1\n",
        "    else:\n",
        "        return n * factorial(n - 1)\n",
        "\n",
        "print(factorial(5))  # Output: 120\n"
      ],
      "metadata": {
        "id": "U3_jU4AivkpN"
      },
      "execution_count": null,
      "outputs": []
    },
    {
      "cell_type": "markdown",
      "source": [
        "# **7. Arguments**\n",
        "Python functions can accept various types of arguments:\n",
        "\n",
        "Positional Arguments: These are the most common type, where the values are assigned to parameters in the order they are passed.\n",
        "\n",
        "Keyword Arguments: These are specified by the parameter name, allowing out-of-order arguments.\n",
        "\n",
        "Default Arguments: Parameters can have default values."
      ],
      "metadata": {
        "id": "3kTawf1svk5O"
      }
    },
    {
      "cell_type": "code",
      "source": [
        "def display_info(name, age=30, city=\"New York\"):\n",
        "    print(f\"Name: {name}, Age: {age}, City: {city}\")\n",
        "\n",
        "display_info(\"Alice\")  # Output: Name: Alice, Age: 30, City: New York\n",
        "display_info(\"Bob\", 25)  # Output: Name: Bob, Age: 25, City: New York\n",
        "display_info(\"Charlie\", city=\"San Francisco\")  # Output: Name: Charlie, Age: 30, City: San Francisco\n"
      ],
      "metadata": {
        "id": "L7-tUYWJvlHk"
      },
      "execution_count": null,
      "outputs": []
    },
    {
      "cell_type": "markdown",
      "source": [
        "# **8. Global Variables**\n",
        "Global variables are those that are defined outside of any function. They can be accessed (but not always modified) inside functions."
      ],
      "metadata": {
        "id": "lpG-0VSMvlV5"
      }
    },
    {
      "cell_type": "code",
      "source": [
        "x = 10  # Global variable\n",
        "\n",
        "def modify_global():\n",
        "    global x  # Declare x as global to modify it\n",
        "    x = 20\n",
        "\n",
        "modify_global()\n",
        "print(x)  # Output: 20\n",
        "\n",
        "def print_numbers(*args):\n",
        "    for number in args:\n",
        "        print(number)\n",
        "\n",
        "print_numbers(1, 2, 3, 4)  # Output: 1 2 3 4\n",
        "\n",
        "def print_info(**kwargs):\n",
        "    for key, value in kwargs.items():\n",
        "        print(f\"{key}: {value}\")\n",
        "\n",
        "print_info(name=\"Alice\", age=30, city=\"New York\")  # Output: name: Alice age: 30 city: New York\n"
      ],
      "metadata": {
        "id": "FlcBO0zpvllL"
      },
      "execution_count": null,
      "outputs": []
    },
    {
      "cell_type": "markdown",
      "source": [
        "# **10. Lambda Functions**\n",
        "Lambda functions are small anonymous functions defined with the lambda keyword. They can have any number of arguments but only one expression."
      ],
      "metadata": {
        "id": "Bw7s75Vhvlze"
      }
    },
    {
      "cell_type": "code",
      "source": [
        "add = lambda a, b: a + b\n",
        "print(add(3, 5))  # Output: 8\n",
        "\n",
        "square = lambda x: x * x\n",
        "print(square(4))  # Output: 16\n"
      ],
      "metadata": {
        "id": "WvUjjuomvmDC"
      },
      "execution_count": null,
      "outputs": []
    },
    {
      "cell_type": "markdown",
      "source": [
        "# **11. Map and Reduce**\n",
        "map(): Applies a function to all items in an input list (or any iterable) and returns a map object (which can be converted to a list).\n",
        "\n",
        "reduce(): Applies a function cumulatively to the items of a sequence, from left to right, so as to reduce the sequence to a single value. reduce() is in the functools module."
      ],
      "metadata": {
        "id": "tAkUet-GwXsr"
      }
    },
    {
      "cell_type": "code",
      "source": [
        "numbers = [1, 2, 3, 4]\n",
        "squared = list(map(lambda x: x * x, numbers))\n",
        "print(squared)  # Output: [1, 4, 9, 16]\n",
        "\n",
        "from functools import reduce\n",
        "\n",
        "numbers = [1, 2, 3, 4]\n",
        "sum = reduce(lambda x, y: x + y, numbers)\n",
        "print(sum)  # Output: 10\n"
      ],
      "metadata": {
        "id": "fHEIiQ3MwX7s"
      },
      "execution_count": null,
      "outputs": []
    },
    {
      "cell_type": "markdown",
      "source": [
        "# **Problems**"
      ],
      "metadata": {
        "id": "OzBHIxYYz0io"
      }
    },
    {
      "cell_type": "code",
      "source": [
        "#Problem Statement1: Write a function process_orders that takes a list of orders, where each order is represented as a\n",
        "#dictionary with id, item, and quantity. Return the total quantity of all items ordered.\n",
        "orders = [\n",
        "    {\"id\": 1, \"item\": \"apple\", \"quantity\": 5},\n",
        "    {\"id\": 2, \"item\": \"banana\", \"quantity\": 3},\n",
        "    {\"id\": 3, \"item\": \"orange\", \"quantity\": 4}\n",
        "]\n",
        "#Problem Statement: Write a function update_inventory that takes a list of current inventory items and a list of sold items.\n",
        "#The function should return the updated inventory after removing the sold items.\n",
        "inventory = [\"apple\", \"banana\", \"orange\", \"grape\"]\n",
        "sold_items = [\"banana\", \"grape\"]\n",
        "print(\"Updated inventory:\", update_inventory(inventory, sold_items))\n",
        "# Output: Updated inventory: ['apple', 'orange']\n",
        "\n",
        "\n",
        "#Problem Statement: Write a function filter_above_threshold that takes a list of dictionaries representing sensor data and a threshold value.\n",
        "# Return a list of sensor data where the readings are above the threshold.\n",
        "sensor_data = [\n",
        "    {\"id\": 1, \"reading\": 45},\n",
        "    {\"id\": 2, \"reading\": 30},\n",
        "    {\"id\": 3, \"reading\": 55},\n",
        "    {\"id\": 4, \"reading\": 20}\n",
        "]\n",
        "threshold = 40\n",
        "print(\"Filtered sensor data:\", filter_above_threshold(sensor_data, threshold))\n",
        "# Output: Filtered sensor data: [{'id': 1, 'reading': 45}, {'id': 3, 'reading': 55}]\n",
        "\n",
        "#Problem Statement: Write a function track_attendance that takes a list of students' attendance records\n",
        "# (as dictionaries with name and present keys) and returns a list of names of students who are present.\n",
        "attendance_records = [\n",
        "    {\"name\": \"Alice\", \"present\": True},\n",
        "    {\"name\": \"Bob\", \"present\": False},\n",
        "    {\"name\": \"Charlie\", \"present\": True}\n",
        "]\n",
        "print(\"Students present:\", track_attendance(attendance_records))\n",
        "# Output: Students present: ['Alice', 'Charlie']\n",
        "\n",
        "#Problem Statement: Write a function sales_summary that takes a list of sales records (each record is a dictionary with item, quantity, and price) and\n",
        "# returns a summary dictionary with the total sales for each item and the overall total sales.\n",
        "sales = [\n",
        "    {\"item\": \"apple\", \"quantity\": 10, \"price\": 0.5},\n",
        "    {\"item\": \"banana\", \"quantity\": 5, \"price\": 0.3},\n",
        "    {\"item\": \"apple\", \"quantity\": 3, \"price\": 0.5},\n",
        "    {\"item\": \"orange\", \"quantity\": 8, \"price\": 0.7}\n",
        "]\n",
        "print(\"Sales summary:\", sales_summary(sales))\n",
        "# Output: Sales summary: {'apple': 6.5, 'banana': 1.5, 'orange': 5.6, 'total_sales': 13.6}\n",
        "\n",
        "#Problem Statement: Write a function task_schedule that takes a list of tasks, each represented as a dictionary with id, duration, and deadline.\n",
        "#The function should return a schedule (list of task ids) that maximizes the number of tasks completed before their deadline.\n",
        "tasks = [\n",
        "    {\"id\": 1, \"duration\": 2, \"deadline\": 4},\n",
        "    {\"id\": 2, \"duration\": 1, \"deadline\": 3},\n",
        "    {\"id\": 3, \"duration\": 2, \"deadline\": 2},\n",
        "    {\"id\": 4, \"duration\": 1, \"deadline\": 1}\n",
        "]\n",
        "print(\"Task schedule:\", task_schedule(tasks))\n",
        "# Output: Task schedule: [4, 2, 1]"
      ],
      "metadata": {
        "id": "HxvtIbA_z0vW"
      },
      "execution_count": null,
      "outputs": []
    }
  ]
}