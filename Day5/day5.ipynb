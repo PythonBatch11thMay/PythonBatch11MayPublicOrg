{
  "nbformat": 4,
  "nbformat_minor": 0,
  "metadata": {
    "colab": {
      "provenance": [],
      "authorship_tag": "ABX9TyNuDbStyzgU6/N4iV7kPH55",
      "include_colab_link": true
    },
    "kernelspec": {
      "name": "python3",
      "display_name": "Python 3"
    },
    "language_info": {
      "name": "python"
    }
  },
  "cells": [
    {
      "cell_type": "markdown",
      "metadata": {
        "id": "view-in-github",
        "colab_type": "text"
      },
      "source": [
        "<a href=\"https://colab.research.google.com/github/PythonBatch11thMay/PythonBatch11MayPublicOrg/blob/main/Day5/day5.ipynb\" target=\"_parent\"><img src=\"https://colab.research.google.com/assets/colab-badge.svg\" alt=\"Open In Colab\"/></a>"
      ]
    },
    {
      "cell_type": "markdown",
      "source": [
        "# **Problem Statements**"
      ],
      "metadata": {
        "id": "KTOqJwuBnUzO"
      }
    },
    {
      "cell_type": "code",
      "source": [
        "# Problem 1: write a code to find and print the names of students who scored above 70.\n",
        "# Problem 2: Write a code to count the number of vowels in a given string and print the count.\n",
        "# Problem 3: Given a list of integers, write a code to create a dictionary where the keys are the integers\n",
        "# Problem 4: Write a code to remove duplicate elements from a list and print the new list.\n",
        "# Problem 5: Write a code to concatenate all strings in a list into a single string, separated by spaces.\n",
        "# Problem 6: Write a code to count the frequency of each character in a given string and print the result as a dictionary.\n",
        "# Problem 7: Given a list of tuples, where each tuple contains two elements, write a code to create a dictionary\n",
        "# Problem 8: Write a code to find and print all the unique elements in a list that appear exactly once.\n",
        "# Problem 9: Write a code to merge two dictionaries into one.\n",
        "# Problem 10: Given a string, write a code to reverse the string without using any built-in functions.\n",
        "\n",
        "\n",
        "# Pattern 1: Right-Angled Triangle\n",
        "\n",
        "# Output:\n",
        "# *\n",
        "# **\n",
        "# ***\n",
        "# ****\n",
        "# *****\n",
        "\n",
        "# Pattern 2: Inverted Right-Angled Triangle\n",
        "\n",
        "# Output:\n",
        "# *****\n",
        "# ****\n",
        "# ***\n",
        "# **\n",
        "# *\n",
        "\n",
        "# Pattern 3: Right-Angled Triangle with Leading Spaces\n",
        "\n",
        "# Output:\n",
        "#     *\n",
        "#    **\n",
        "#   ***\n",
        "#  ****\n",
        "# *****\n",
        "\n",
        "# Pattern 4: Increasing Numbers Triangle\n",
        "\n",
        "# Output:\n",
        "# 1\n",
        "# 12\n",
        "# 123\n",
        "# 1234\n",
        "# 12345\n",
        "\n",
        "# Pattern 5: Repeating Numbers Triangle\n",
        "\n",
        "# Output:\n",
        "# 1\n",
        "# 22\n",
        "# 333\n",
        "# 4444\n",
        "# 55555\n",
        "\n",
        "# Pattern 6: Decreasing Numbers Triangle\n",
        "\n",
        "# Output:\n",
        "# 54321\n",
        "# 5432\n",
        "# 543\n",
        "# 54\n",
        "# 5\n",
        "\n",
        "# Pattern 7: Pyramid of Numbers\n",
        "\n",
        "# Output:\n",
        "#     1\n",
        "#    121\n",
        "#   12321\n",
        "#  1234321\n",
        "# 123454321\n",
        "\n",
        "# Pattern 8: Sequential Numbers Triangle\n",
        "\n",
        "# Output:\n",
        "# 1\n",
        "# 23\n",
        "# 456\n",
        "# 78910\n",
        "\n",
        "# Pattern 9: Repeating Letters Triangle\n",
        "\n",
        "# Output:\n",
        "# A\n",
        "# BB\n",
        "# CCC\n",
        "# DDDD\n",
        "# EEEEE\n",
        "\n",
        "# Pattern 10: Descending Letters Triangle\n",
        "\n",
        "# Output:\n",
        "# E\n",
        "# DE\n",
        "# CDE\n",
        "# BCDE\n",
        "# ABCDE\n"
      ],
      "metadata": {
        "id": "3ZFAj_n9nWIJ"
      },
      "execution_count": null,
      "outputs": []
    }
  ]
}