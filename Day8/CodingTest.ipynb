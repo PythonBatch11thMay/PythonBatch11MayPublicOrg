{
  "nbformat": 4,
  "nbformat_minor": 0,
  "metadata": {
    "colab": {
      "private_outputs": true,
      "provenance": [],
      "authorship_tag": "ABX9TyMVJ8wMcgVT22LAzovxe8Ga",
      "include_colab_link": true
    },
    "kernelspec": {
      "name": "python3",
      "display_name": "Python 3"
    },
    "language_info": {
      "name": "python"
    }
  },
  "cells": [
    {
      "cell_type": "markdown",
      "metadata": {
        "id": "view-in-github",
        "colab_type": "text"
      },
      "source": [
        "<a href=\"https://colab.research.google.com/github/PythonBatch11thMay/PythonBatch11MayPublicOrg/blob/main/Day8/CodingTest.ipynb\" target=\"_parent\"><img src=\"https://colab.research.google.com/assets/colab-badge.svg\" alt=\"Open In Colab\"/></a>"
      ]
    },
    {
      "cell_type": "markdown",
      "source": [
        "# **Coding Test**\n",
        "Question 1\n",
        "\n",
        "Write a function invert_dict that takes a dictionary and returns a new dictionary where the keys are the values and the values are the keys."
      ],
      "metadata": {
        "id": "M2PKmnM1NP87"
      }
    },
    {
      "cell_type": "code",
      "source": [],
      "metadata": {
        "id": "yLy00VCuNYnj"
      },
      "execution_count": null,
      "outputs": []
    },
    {
      "cell_type": "markdown",
      "source": [
        "Question 2\n",
        "\n",
        "Write a function find_second_largest that takes a list of integers and returns the second largest number in the list."
      ],
      "metadata": {
        "id": "H7U2__xyOdqa"
      }
    },
    {
      "cell_type": "code",
      "source": [],
      "metadata": {
        "id": "Ygvs_eVoQIBt"
      },
      "execution_count": null,
      "outputs": []
    },
    {
      "cell_type": "markdown",
      "source": [
        "Question 3\n",
        "\n",
        "Write a function swap_first_last that takes a tuple and returns a new tuple with the first and last elements swapped."
      ],
      "metadata": {
        "id": "GENGQ8aIQIWV"
      }
    },
    {
      "cell_type": "code",
      "source": [],
      "metadata": {
        "id": "kLmxkIUyQIka"
      },
      "execution_count": null,
      "outputs": []
    },
    {
      "cell_type": "markdown",
      "source": [
        "Question 4\n",
        "\n",
        "Given an List of integers nums and an integer target, return the indices of the two numbers such that they add up to the target."
      ],
      "metadata": {
        "id": "eXBMsZBJQIz4"
      }
    },
    {
      "cell_type": "code",
      "source": [
        "print(two_sum([2, 7, 11, 15], 9))  # Output: [7,2]"
      ],
      "metadata": {
        "id": "j6itQ5XeQJBL"
      },
      "execution_count": null,
      "outputs": []
    },
    {
      "cell_type": "markdown",
      "source": [
        "Question 5\n",
        "\n",
        "Given a string aaaaaagggggggfffttttt, return the frequency of each character in the format: \"a6g7f3t5\"."
      ],
      "metadata": {
        "id": "i92Q70fRQJNX"
      }
    },
    {
      "cell_type": "code",
      "source": [],
      "metadata": {
        "id": "LyaNTkHRQJam"
      },
      "execution_count": null,
      "outputs": []
    },
    {
      "cell_type": "markdown",
      "source": [
        "Question 6\n",
        "\n",
        "Write a function convert_currency that takes an amount in USD and converts it to a specified currency using an exchange rate provided in a dictionary."
      ],
      "metadata": {
        "id": "4Nn-ShzbQJnP"
      }
    },
    {
      "cell_type": "code",
      "source": [
        "exchange_rates = {\"EUR\": 0.85, \"JPY\": 110.0, \"GBP\": 0.75}"
      ],
      "metadata": {
        "id": "sxdDq-AlQJ0N"
      },
      "execution_count": null,
      "outputs": []
    },
    {
      "cell_type": "markdown",
      "source": [
        "Question 7\n",
        "\n",
        "Write a function average_temperature and average_daily_temperature that takes a list of dictionaries containing daily weather data and returns the average temperature for the given period."
      ],
      "metadata": {
        "id": "bPCUxJPHXs_n"
      }
    },
    {
      "cell_type": "code",
      "source": [
        "weather_data =[\n",
        "    {'date': '2024-05-11', 'temperature': 18.9},\n",
        "    {'date': '2024-05-03', 'temperature': 22.4},\n",
        "    {'date': '2024-05-25', 'temperature': 20.1},\n",
        "    {'date': '2024-05-28', 'temperature': 22.2},\n",
        "    {'date': '2024-05-09', 'temperature': 24.5},\n",
        "    {'date': '2024-05-25', 'temperature': 21.2},\n",
        "    {'date': '2024-05-26', 'temperature': 17.8},\n",
        "    {'date': '2024-05-04', 'temperature': 23.4},\n",
        "    {'date': '2024-05-23', 'temperature': 16.5},\n",
        "    {'date': '2024-05-09', 'temperature': 20.2}\n",
        "]"
      ],
      "metadata": {
        "id": "zFBVf-YOXtQk"
      },
      "execution_count": null,
      "outputs": []
    },
    {
      "cell_type": "markdown",
      "source": [
        "Question 8\n",
        "\n",
        "Healthcare Management System\n",
        "\n",
        "Create a system to manage patient records in a healthcare setting. Implement a Patient class to store patient details, and a PatientDatabase class to manage the collection of patients. The system should include functionalities to:\n",
        "Add a new patient.\n",
        "Remove a patient by ID.\n",
        "Search for patients by condition.\n",
        "Calculate the average age of all patients.\n",
        "Display all patient details.\n",
        "Update a patient's medical condition."
      ],
      "metadata": {
        "id": "c5obYXzmXthy"
      }
    },
    {
      "cell_type": "code",
      "source": [],
      "metadata": {
        "id": "Ge3eJ1fZXtxc"
      },
      "execution_count": null,
      "outputs": []
    },
    {
      "cell_type": "markdown",
      "source": [],
      "metadata": {
        "id": "IUi4jUXaXt_f"
      }
    },
    {
      "cell_type": "code",
      "source": [],
      "metadata": {
        "id": "S_jRupljXuPq"
      },
      "execution_count": null,
      "outputs": []
    }
  ]
}