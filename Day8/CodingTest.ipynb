{
  "nbformat": 4,
  "nbformat_minor": 0,
  "metadata": {
    "colab": {
      "private_outputs": true,
      "provenance": [],
      "authorship_tag": "ABX9TyPTCGSzNhLgyPkPO+8RAYUJ",
      "include_colab_link": true
    },
    "kernelspec": {
      "name": "python3",
      "display_name": "Python 3"
    },
    "language_info": {
      "name": "python"
    }
  },
  "cells": [
    {
      "cell_type": "markdown",
      "metadata": {
        "id": "view-in-github",
        "colab_type": "text"
      },
      "source": [
        "<a href=\"https://colab.research.google.com/github/PythonBatch11thMay/PythonBatch11MayPublicOrg/blob/main/Day8/CodingTest.ipynb\" target=\"_parent\"><img src=\"https://colab.research.google.com/assets/colab-badge.svg\" alt=\"Open In Colab\"/></a>"
      ]
    },
    {
      "cell_type": "markdown",
      "source": [
        "# **Coding Test**\n",
        "Question 1\n",
        "\n",
        "Write a function invert_dict that takes a dictionary and returns a new dictionary where the keys are the values and the values are the keys."
      ],
      "metadata": {
        "id": "M2PKmnM1NP87"
      }
    },
    {
      "cell_type": "code",
      "source": [],
      "metadata": {
        "id": "yLy00VCuNYnj"
      },
      "execution_count": null,
      "outputs": []
    },
    {
      "cell_type": "markdown",
      "source": [
        "Question 2\n",
        "\n",
        "Write a function find_second_largest that takes a list of integers and returns the second largest number in the list."
      ],
      "metadata": {
        "id": "H7U2__xyOdqa"
      }
    },
    {
      "cell_type": "code",
      "source": [],
      "metadata": {
        "id": "Ygvs_eVoQIBt"
      },
      "execution_count": null,
      "outputs": []
    },
    {
      "cell_type": "markdown",
      "source": [
        "Question 3\n",
        "\n",
        "Write a function swap_first_last that takes a tuple and returns a new tuple with the first and last elements swapped."
      ],
      "metadata": {
        "id": "GENGQ8aIQIWV"
      }
    },
    {
      "cell_type": "code",
      "source": [],
      "metadata": {
        "id": "kLmxkIUyQIka"
      },
      "execution_count": null,
      "outputs": []
    },
    {
      "cell_type": "markdown",
      "source": [
        "Question 4\n",
        "\n",
        "Given an List of integers nums and an integer target, return the indices of the two numbers such that they add up to the target."
      ],
      "metadata": {
        "id": "eXBMsZBJQIz4"
      }
    },
    {
      "cell_type": "code",
      "source": [
        "print(two_sum([2, 7, 11, 15], 9))  # Output: [7,2]"
      ],
      "metadata": {
        "id": "j6itQ5XeQJBL"
      },
      "execution_count": null,
      "outputs": []
    },
    {
      "cell_type": "markdown",
      "source": [
        "Question 5\n",
        "\n",
        "Given a string aaaaaagggggggfffttttt, return the frequency of each character in the format: \"a6g7f3t5\"."
      ],
      "metadata": {
        "id": "i92Q70fRQJNX"
      }
    },
    {
      "cell_type": "code",
      "source": [],
      "metadata": {
        "id": "LyaNTkHRQJam"
      },
      "execution_count": null,
      "outputs": []
    },
    {
      "cell_type": "markdown",
      "source": [],
      "metadata": {
        "id": "4Nn-ShzbQJnP"
      }
    },
    {
      "cell_type": "code",
      "source": [],
      "metadata": {
        "id": "sxdDq-AlQJ0N"
      },
      "execution_count": null,
      "outputs": []
    },
    {
      "cell_type": "markdown",
      "source": [],
      "metadata": {
        "id": "bPCUxJPHXs_n"
      }
    },
    {
      "cell_type": "code",
      "source": [],
      "metadata": {
        "id": "zFBVf-YOXtQk"
      },
      "execution_count": null,
      "outputs": []
    },
    {
      "cell_type": "markdown",
      "source": [],
      "metadata": {
        "id": "c5obYXzmXthy"
      }
    },
    {
      "cell_type": "code",
      "source": [],
      "metadata": {
        "id": "Ge3eJ1fZXtxc"
      },
      "execution_count": null,
      "outputs": []
    },
    {
      "cell_type": "markdown",
      "source": [],
      "metadata": {
        "id": "IUi4jUXaXt_f"
      }
    },
    {
      "cell_type": "code",
      "source": [],
      "metadata": {
        "id": "S_jRupljXuPq"
      },
      "execution_count": null,
      "outputs": []
    }
  ]
}