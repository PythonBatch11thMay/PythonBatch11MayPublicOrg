{
  "nbformat": 4,
  "nbformat_minor": 0,
  "metadata": {
    "colab": {
      "private_outputs": true,
      "provenance": [],
      "authorship_tag": "ABX9TyP7X/76CPRjmGeFuVETTg45",
      "include_colab_link": true
    },
    "kernelspec": {
      "name": "python3",
      "display_name": "Python 3"
    },
    "language_info": {
      "name": "python"
    }
  },
  "cells": [
    {
      "cell_type": "markdown",
      "metadata": {
        "id": "view-in-github",
        "colab_type": "text"
      },
      "source": [
        "<a href=\"https://colab.research.google.com/github/PythonBatch11thMay/PythonBatch11MayPublicOrg/blob/main/Day8/Day8.ipynb\" target=\"_parent\"><img src=\"https://colab.research.google.com/assets/colab-badge.svg\" alt=\"Open In Colab\"/></a>"
      ]
    },
    {
      "cell_type": "code",
      "execution_count": null,
      "metadata": {
        "id": "wyHhdAxs18Lx"
      },
      "outputs": [],
      "source": [
        "#1.Movie Database:\n",
        "#Create a Movie class that has attributes for title, director, year, and ratings (a list of ratings).\n",
        "# Implement methods to:\n",
        "#Add a rating for the movie.\n",
        "#Calculate the average rating.\n",
        "#Display the movie details.\n",
        "#Use a dictionary to manage a collection of movies, where keys are movie titles and values are Movie objects.\n",
        "#Create MovieDatabse which contains methods like add_movie,remove_movie,search_by_director,display_all_movies\n",
        "#Include functions to add a new movie, remove a movie, and search for movies by director.\n",
        "\n",
        "#2.Online Shopping Cart:\n",
        "#Create a ShoppingCart class that has methods to:\n",
        "#Add an item to the cart (item details should include name, price, and quantity).\n",
        "#Remove an item from the cart.\n",
        "#View all items in the cart.\n",
        "#Calculate the total price of items in the cart.\n",
        "#Apply a discount code that reduces the total price by a certain percentage.\n",
        "#Use a list to manage the items in the cart and a dictionary to store available discount codes.\n",
        "\n",
        "#3.Library Management System:\n",
        "#Create a Library class that manages a collection of books. Each book should be represented as a dictionary with keys like title, author, year, and copies. The Library class should have methods to:\n",
        "#Add a new book.\n",
        "#Remove a book by title.\n",
        "#Search for books by author.\n",
        "#Display all books.\n",
        "#Lend a book (decrease the number of copies).\n",
        "#Return a book (increase the number of copies).\n",
        "\n",
        "#4.Student Report Card:\n",
        "#Create a Student class that has attributes for name, grades (a dictionary where keys are subjects and values are lists of grades), and methods to:\n",
        "#Add a grade for a subject.\n",
        "#Calculate the average grade for a subject.\n",
        "#Calculate the overall average grade.\n",
        "#Display a formatted report card with all subjects and their average grades."
      ]
    }
  ]
}