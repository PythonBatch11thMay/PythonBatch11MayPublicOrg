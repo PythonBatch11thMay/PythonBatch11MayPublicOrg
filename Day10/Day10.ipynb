{
  "nbformat": 4,
  "nbformat_minor": 0,
  "metadata": {
    "colab": {
      "private_outputs": true,
      "provenance": [],
      "authorship_tag": "ABX9TyOmXaa03qB2dLmkNkIwBuMJ",
      "include_colab_link": true
    },
    "kernelspec": {
      "name": "python3",
      "display_name": "Python 3"
    },
    "language_info": {
      "name": "python"
    }
  },
  "cells": [
    {
      "cell_type": "markdown",
      "metadata": {
        "id": "view-in-github",
        "colab_type": "text"
      },
      "source": [
        "<a href=\"https://colab.research.google.com/github/PythonBatch11thMay/PythonBatch11MayPublicOrg/blob/main/Day10/Day10.ipynb\" target=\"_parent\"><img src=\"https://colab.research.google.com/assets/colab-badge.svg\" alt=\"Open In Colab\"/></a>"
      ]
    },
    {
      "cell_type": "markdown",
      "source": [
        "Import Pandas"
      ],
      "metadata": {
        "id": "wguMzMEvtkKe"
      }
    },
    {
      "cell_type": "markdown",
      "source": [
        "What is Pandas?\n",
        "Pandas is an open-source data analysis and manipulation library for Python. It provides data structures and functions needed to work on structured data seamlessly and efficiently. The two primary data structures in Pandas are Series (one-dimensional) and DataFrame (two-dimensional).\n"
      ],
      "metadata": {
        "id": "LlbqEwUu1XyQ"
      }
    },
    {
      "cell_type": "code",
      "source": [
        "#Core Concepts\n",
        "#DataFrame: A two-dimensional, size-mutable, and potentially heterogeneous tabular data structure with labeled axes (rows and columns).\n",
        "#Series: A one-dimensional array-like structure with labels (also known as index).\n",
        "#Indexing: The process of selecting subsets of data.\n",
        "#Aggregation: Summarizing data, e.g., calculating mean, median, sum.\n",
        "#Transformation: Applying functions to modify data, e.g., normalization, scaling.\n",
        "#Filtering: Extracting data based on specific conditions.\n",
        "#Merging and Joining: Combining data from multiple DataFrames.\n",
        "\n",
        "#Use Cases of Pandas in Real-Time Applications\n",
        "#1. Data Cleaning\n",
        "#Use Case: A company collects customer feedback forms which contain missing values, inconsistent formats, and unnecessary information.\n",
        "\n",
        "# 2. Data Analysis\n",
        "# Use Case: A retail company wants to analyze sales data to understand trends and patterns.\n",
        "\n",
        "# 3. Time Series Analysis\n",
        "# Use Case: A financial analyst needs to analyze stock prices over time to forecast future prices.\n",
        "\n",
        "# Summary:\n",
        "# Pandas is a powerful tool for data manipulation and analysis in Python. Its ability to handle diverse datasets and\n",
        "# perform complex operations with minimal code makes it invaluable in various real-time applications, from cleaning and\n",
        "# preparing data to analyzing trends and making predictions.\n",
        "# Teaching these concepts and use cases will give your students a strong foundation in data science and analytics.\n",
        "\n",
        "import pandas as pd\n",
        "\n",
        "# Create a simple DataFrame\n",
        "data = {'Name': ['John', 'Anna', 'Peter', 'Linda'],\n",
        "        'Age': [28, 24, 35, 32],\n",
        "        'City': ['New York', 'Paris', 'Berlin', 'London']}\n",
        "df = pd.DataFrame(data)\n",
        "\n",
        "print(df)\n",
        "\n",
        "\n",
        "# Create an empty DataFrame with defined columns\n",
        "empty_df = pd.DataFrame(columns=['Name', 'Age', 'City'])\n",
        "\n",
        "# Add rows using pd.concat\n",
        "new_row_1 = pd.DataFrame([{'Name': 'John', 'Age': 28, 'City': 'New York'}])\n",
        "new_row_2 = pd.DataFrame([{'Name': 'Anna', 'Age': 24, 'City': 'Paris'}])\n",
        "\n",
        "empty_df = pd.concat([empty_df, new_row_1], ignore_index=True)\n",
        "empty_df = pd.concat([empty_df, new_row_2], ignore_index=True)\n",
        "\n",
        "# Add more data using direct assignment\n",
        "empty_df.loc[2] = ['Peter', 35, 'Berlin']\n",
        "empty_df.loc[3] = ['Linda', 32, 'London']\n",
        "\n",
        "print(empty_df)\n",
        "\n",
        "\n",
        "#pd.DataFrame(data, index=['a', 'b', 'c', 'd', 'e', 'f'])\n",
        "\n"
      ],
      "metadata": {
        "id": "h9seHvzJ1YbE"
      },
      "execution_count": null,
      "outputs": []
    },
    {
      "cell_type": "markdown",
      "source": [
        "Viewing Data"
      ],
      "metadata": {
        "id": "B5Y9KHdntkoQ"
      }
    },
    {
      "cell_type": "code",
      "source": [
        "# Display the first few rows of the DataFrame\n",
        "print(df.head())\n",
        "\n",
        "# Display the last few rows of the DataFrame\n",
        "print(df.tail())\n",
        "\n",
        "# Display the DataFrame's columns\n",
        "print(df.columns.tolist())\n",
        "\n",
        "# Display summary statistics\n",
        "print(df.describe())\n",
        "\n",
        "\n",
        "shape = df.shape\n",
        "\n",
        "print(shape)"
      ],
      "metadata": {
        "id": "yq7BL1dPtkzF"
      },
      "execution_count": null,
      "outputs": []
    },
    {
      "cell_type": "markdown",
      "source": [
        "Selection and Indexing"
      ],
      "metadata": {
        "id": "vY5HCKv_tlOO"
      }
    },
    {
      "cell_type": "code",
      "source": [
        "# Select a single column\n",
        "print(df['Name'])\n",
        "\n",
        "# Select multiple columns\n",
        "print(df[['Name', 'City']])\n",
        "\n",
        "# Select rows by position\n",
        "print(df.iloc[0:2])\n",
        "\n",
        "# Select rows by label\n",
        "print(df.loc['a':'c', ['Name', 'Age']])\n"
      ],
      "metadata": {
        "id": "g4I0D6DYtlUL"
      },
      "execution_count": null,
      "outputs": []
    },
    {
      "cell_type": "markdown",
      "source": [
        "Filter"
      ],
      "metadata": {
        "id": "ONyttn_utlae"
      }
    },
    {
      "cell_type": "code",
      "source": [
        "# Filter rows based on a condition\n",
        "print(df[df['Age'] > 30])\n",
        "\n",
        "# Filter to keep only the 'Name' and 'Age' columns\n",
        "filtered_df = df.filter(items=['Name', 'Age'])\n",
        "\n",
        "print(filtered_df)\n",
        "\n",
        "\n",
        "# Filter columns that contain the substring 'a'\n",
        "filtered_df = df.filter(like='a', axis=1)\n",
        "\n",
        "print(filtered_df)\n",
        "\n",
        "data1 = {\n",
        "    'Name': ['John', 'Anna', 'Peter', 'Linda', 'James', 'Laura'],\n",
        "    'Age': [28, 24, 35, 32, 45, 22],\n",
        "    'City': ['New York', 'Paris', 'Berlin', 'London', 'Chicago', 'Boston']\n",
        "}\n",
        "df = pd.DataFrame(data1, index=['a', 'b', 'c', 'd', 'e', 'f'])\n",
        "\n",
        "print(\"Original DataFrame:\")\n",
        "print(df)\n",
        "\n",
        "# Filter to keep only the rows with index 'b' and 'd'\n",
        "filtered_df = df.filter(items=['b', 'd'], axis=0)\n",
        "\n",
        "print(\"\\nFiltered DataFrame:\")\n",
        "print(filtered_df)\n",
        "\n"
      ],
      "metadata": {
        "id": "lHsdWXa0tlgL"
      },
      "execution_count": null,
      "outputs": []
    },
    {
      "cell_type": "markdown",
      "source": [
        "Transformation"
      ],
      "metadata": {
        "id": "tN0fexzdtlk4"
      }
    },
    {
      "cell_type": "code",
      "source": [
        "# Add a new column\n",
        "df['Salary'] = [70000, 80000, 120000, 90000]\n",
        "print(df)\n",
        "\n",
        "# Drop a column\n",
        "df = df.drop('Salary', axis=1)\n",
        "print(df)\n",
        "\n",
        "# Rename columns\n",
        "df = df.rename(columns={'Name': 'Full Name'})\n",
        "print(df)\n",
        "\n",
        "# Group data by a column and calculate summary statistics\n",
        "group_by_city = df.groupby('City').mean()\n",
        "print(group_by_city)\n",
        "\n",
        "# Apply multiple aggregation functions\n",
        "agg_df = df.groupby('City').agg({'Age': ['mean', 'min', 'max']})\n",
        "print(agg_df)\n",
        "\n",
        "# Detect missing values\n",
        "print(df.isnull())\n",
        "print(df.isnull().sum())\n",
        "\n",
        "# Fill missing values\n",
        "df['Age'] = df['Age'].fillna(df['Age'].mean())\n",
        "\n",
        "# Drop rows with missing values\n",
        "df = df.dropna()\n",
        "\n",
        "#Concatenation\n",
        "df1 = pd.DataFrame({'Name': ['John', 'Anna', 'Peter', 'Linda'],\n",
        "                    'Age': [28, 24, 35, 32]})\n",
        "df2 = pd.DataFrame({'Name': ['John', 'Anna', 'Peter', 'Linda'],\n",
        "                    'City': ['New York', 'Paris', 'Berlin', 'London']})\n",
        "\n",
        "merged_df = pd.merge(df1, df2, on='Name')\n",
        "print(merged_df)\n",
        "df3 = pd.DataFrame({'Name': ['Laura', 'Tom'],\n",
        "                    'Age': [22, 34],\n",
        "                    'City': ['San Francisco', 'Boston']})\n",
        "\n",
        "concatenated_df = pd.concat([df, df3])\n",
        "print(concatenated_df)\n"
      ],
      "metadata": {
        "id": "BdAdqGBytlqm"
      },
      "execution_count": null,
      "outputs": []
    },
    {
      "cell_type": "markdown",
      "source": [],
      "metadata": {
        "id": "2XDCF5wptlv0"
      }
    },
    {
      "cell_type": "code",
      "source": [],
      "metadata": {
        "id": "tJzkC7q7tl1M"
      },
      "execution_count": null,
      "outputs": []
    },
    {
      "cell_type": "markdown",
      "source": [],
      "metadata": {
        "id": "AgkvLauCtl6A"
      }
    },
    {
      "cell_type": "code",
      "source": [],
      "metadata": {
        "id": "3ounFEvktl_K"
      },
      "execution_count": null,
      "outputs": []
    },
    {
      "cell_type": "markdown",
      "source": [],
      "metadata": {
        "id": "4oxOd-SutmEF"
      }
    },
    {
      "cell_type": "code",
      "source": [],
      "metadata": {
        "id": "w1Su0y-3tmIR"
      },
      "execution_count": null,
      "outputs": []
    },
    {
      "cell_type": "markdown",
      "source": [],
      "metadata": {
        "id": "FQvCzm54tmMt"
      }
    },
    {
      "cell_type": "code",
      "source": [],
      "metadata": {
        "id": "IYrTTMOGtmRY"
      },
      "execution_count": null,
      "outputs": []
    }
  ]
}