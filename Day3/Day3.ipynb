{
  "nbformat": 4,
  "nbformat_minor": 0,
  "metadata": {
    "colab": {
      "private_outputs": true,
      "provenance": [],
      "authorship_tag": "ABX9TyO3RdXg6BsNVhM00N9F1B1s",
      "include_colab_link": true
    },
    "kernelspec": {
      "name": "python3",
      "display_name": "Python 3"
    },
    "language_info": {
      "name": "python"
    }
  },
  "cells": [
    {
      "cell_type": "markdown",
      "metadata": {
        "id": "view-in-github",
        "colab_type": "text"
      },
      "source": [
        "<a href=\"https://colab.research.google.com/github/PythonBatch11thMay/PythonBatch11MayPublicOrg/blob/main/Day3/Day3.ipynb\" target=\"_parent\"><img src=\"https://colab.research.google.com/assets/colab-badge.svg\" alt=\"Open In Colab\"/></a>"
      ]
    },
    {
      "cell_type": "markdown",
      "source": [
        "# **Indentation**"
      ],
      "metadata": {
        "id": "C16GRaCwKX9g"
      }
    },
    {
      "cell_type": "code",
      "source": [
        "# Example of indentation\n",
        "if True:\n",
        "    print(\"This is indented\")\n",
        "else:\n",
        "    print(\"This is also indented\")\n",
        "\n",
        "numbers = [10, 20, 30, 40, 50]\n",
        "sum = 0\n",
        "# Incorrect indentation\n",
        "for num in numbers:\n",
        "  sum += num\n",
        "average = sum / len(numbers)\n",
        "print(\"Average:\", average)\n"
      ],
      "metadata": {
        "id": "GY4DhNnfKYFz"
      },
      "execution_count": null,
      "outputs": []
    },
    {
      "cell_type": "markdown",
      "source": [
        "# **If statement and its related statement**\n"
      ],
      "metadata": {
        "id": "F8IEgaaMKYNE"
      }
    },
    {
      "cell_type": "code",
      "source": [
        "# Example of if statement\n",
        "x = 10\n",
        "if x > 5:\n",
        "    print(\"x is greater than 5\")\n",
        "elif x == 5:\n",
        "    print(\"x is equal to 5\")\n",
        "else:\n",
        "    print(\"x is less than 5\")\n",
        "\n",
        "\n",
        "#Example 2\n",
        "# User details\n",
        "user_name = \"John\"\n",
        "loyalty_tier = \"Gold\"\n",
        "total_purchase_amount = 500\n",
        "\n",
        "# Define discount rates for each loyalty tier\n",
        "silver_discount_rate = 0.05  # 5%\n",
        "gold_discount_rate = 0.1     # 10%\n",
        "platinum_discount_rate = 0.15 # 15%\n",
        "\n",
        "# Calculate discount based on loyalty tier\n",
        "if loyalty_tier == \"Silver\":\n",
        "    discount = total_purchase_amount * silver_discount_rate\n",
        "elif loyalty_tier == \"Gold\":\n",
        "    discount = total_purchase_amount * gold_discount_rate\n",
        "elif loyalty_tier == \"Platinum\":\n",
        "    discount = total_purchase_amount * platinum_discount_rate\n",
        "else:\n",
        "    print(\"Invalid loyalty tier\")\n",
        "    discount = 0\n",
        "\n",
        "# Calculate final amount to be paid\n",
        "final_amount = total_purchase_amount - discount\n",
        "\n",
        "# Display receipt\n",
        "print(\"Receipt for:\", user_name)\n",
        "print(\"Total Purchase Amount: $\", total_purchase_amount)\n",
        "print(\"Discount Applied: $\", discount)\n",
        "print(\"Final Amount to be Paid: $\", final_amount)\n",
        "\n"
      ],
      "metadata": {
        "id": "1Phwnx80KYTa"
      },
      "execution_count": null,
      "outputs": []
    },
    {
      "cell_type": "markdown",
      "source": [
        "# **Range**"
      ],
      "metadata": {
        "id": "1Cqkh2d4N-ic"
      }
    },
    {
      "cell_type": "code",
      "source": [
        "#Example1\n",
        "for num in range(0,10,1):\n",
        "    print(num)\n",
        "#Example2\n",
        "even_sum = 0\n",
        "for num in range(2, 101, 2):\n",
        "    even_sum += num\n",
        "print(\"Sum of even numbers from 1 to 100:\", even_sum)\n",
        "#Example3\n",
        "num = 5\n",
        "for i in range(1, 11):\n",
        "    print(num, \"x\", i, \"=\", num * i)\n",
        "#Example4\n",
        "for num in range(1, 11):\n",
        "    print(\"Square of\", num, \":\", num ** 2)\n"
      ],
      "metadata": {
        "id": "_07zALWMN-9I"
      },
      "execution_count": null,
      "outputs": []
    },
    {
      "cell_type": "markdown",
      "source": [
        "# **For Loop**"
      ],
      "metadata": {
        "id": "I5zFBV4xKYaX"
      }
    },
    {
      "cell_type": "code",
      "source": [
        "# Example of for loop\n",
        "fruits = [\"apple\", \"banana\", \"cherry\"]\n",
        "for fruit in fruits:\n",
        "    print(fruit)\n",
        "\n",
        "#complex Example\n",
        "\n",
        "# Sales data: Date, Product Name, Quantity Sold, Total Revenue\n",
        "sales_data = [\n",
        "    {\"date\": \"2024-05-01\", \"product\": \"Laptop\", \"quantity\": 10, \"revenue\": 5000},\n",
        "    {\"date\": \"2024-05-01\", \"product\": \"Mouse\", \"quantity\": 50, \"revenue\": 500},\n",
        "    {\"date\": \"2024-05-02\", \"product\": \"Keyboard\", \"quantity\": 20, \"revenue\": 1000},\n",
        "    {\"date\": \"2024-05-02\", \"product\": \"Laptop\", \"quantity\": 5, \"revenue\": 2500},\n",
        "    {\"date\": \"2024-05-03\", \"product\": \"Mouse\", \"quantity\": 30, \"revenue\": 300},\n",
        "    {\"date\": \"2024-05-03\", \"product\": \"Keyboard\", \"quantity\": 15, \"revenue\": 750}\n",
        "]\n",
        "\n",
        "# Initialize a dictionary to store total revenue for each product\n",
        "product_revenue = {}\n",
        "\n",
        "# Iterate over the sales data to calculate total revenue for each product\n",
        "for transaction in sales_data:\n",
        "    product_name = transaction[\"product\"]\n",
        "    revenue = transaction[\"revenue\"]\n",
        "    if product_name in product_revenue:\n",
        "        product_revenue[product_name] += revenue\n",
        "    else:\n",
        "        product_revenue[product_name] = revenue\n",
        "\n",
        "# Display total revenue for each product\n",
        "print(\"Total Revenue by Product:\")\n",
        "for product, revenue in product_revenue.items():\n",
        "    print(f\"{product}: ${revenue}\")\n",
        "\n"
      ],
      "metadata": {
        "id": "Tz13TK5pKYgm"
      },
      "execution_count": null,
      "outputs": []
    },
    {
      "cell_type": "markdown",
      "source": [
        "# **While Loop**"
      ],
      "metadata": {
        "id": "o-mKsAIWKYms"
      }
    },
    {
      "cell_type": "code",
      "source": [
        "# Example of while loop\n",
        "i = 0\n",
        "while i < 5:\n",
        "    print(i)\n",
        "    i += 1\n",
        "\n",
        "\n",
        "while True:\n",
        "    temperature, humidity = read_sensor_data()  # Function to read sensor data\n",
        "    if temperature > 30 and humidity > 60:\n",
        "        activate_cooling_system()  # Function to activate cooling system\n",
        "        print(\"High temperature and humidity detected. Cooling system activated.\")\n",
        "    elif temperature < 10:\n",
        "        activate_heating_system()  # Function to activate heating system\n",
        "        print(\"Low temperature detected. Heating system activated.\")\n",
        "    else:\n",
        "        print(\"Temperature and humidity within acceptable range.\")\n",
        "\n",
        "    time.sleep(300)  # Wait for 5 minutes before reading data again\n"
      ],
      "metadata": {
        "id": "6ExzNG8EKYtH"
      },
      "execution_count": null,
      "outputs": []
    },
    {
      "cell_type": "markdown",
      "source": [
        "# **Break and Continue**"
      ],
      "metadata": {
        "id": "-MLgV9UDKYzN"
      }
    },
    {
      "cell_type": "code",
      "source": [
        "# Example of break and continue\n",
        "for i in range(10):\n",
        "    if i == 3:\n",
        "        break\n",
        "    print(i)\n",
        "\n",
        "for i in range(5):\n",
        "    if i == 2:\n",
        "        continue\n",
        "    print(i)\n",
        "\n",
        "queue = [\"Alice\", \"Bob\", \"Charlie\", \"David\", \"Eve\", \"Frank\"]\n",
        "\n",
        "for customer in queue:\n",
        "    print(f\"Next customer in line: {customer}\")\n",
        "\n",
        "    # Check if customer needs special assistance\n",
        "    if customer == \"Charlie\":\n",
        "        print(\"Charlie needs special assistance. Skipping to the next customer.\")\n",
        "        continue\n",
        "\n",
        "    # Process customer's transaction\n",
        "    print(f\"Processing transaction for {customer}.\")\n",
        "\n",
        "    # Check if the bank is closing\n",
        "    if customer == \"Eve\":\n",
        "        print(\"Bank is closing. No more customers allowed.\")\n",
        "        break\n",
        "\n",
        "print(\"End of the day. Bank is closed.\")\n",
        "\n"
      ],
      "metadata": {
        "id": "4VQfruovKY49"
      },
      "execution_count": null,
      "outputs": []
    }
  ]
}