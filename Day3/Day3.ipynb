{
  "nbformat": 4,
  "nbformat_minor": 0,
  "metadata": {
    "colab": {
      "private_outputs": true,
      "provenance": [],
      "authorship_tag": "ABX9TyPIKiTql9aAvA2rH7rfrjip",
      "include_colab_link": true
    },
    "kernelspec": {
      "name": "python3",
      "display_name": "Python 3"
    },
    "language_info": {
      "name": "python"
    }
  },
  "cells": [
    {
      "cell_type": "markdown",
      "metadata": {
        "id": "view-in-github",
        "colab_type": "text"
      },
      "source": [
        "<a href=\"https://colab.research.google.com/github/PythonBatch11thMay/PythonBatch11MayPublicOrg/blob/main/Day3/Day3.ipynb\" target=\"_parent\"><img src=\"https://colab.research.google.com/assets/colab-badge.svg\" alt=\"Open In Colab\"/></a>"
      ]
    },
    {
      "cell_type": "markdown",
      "source": [
        "# **Indentation**"
      ],
      "metadata": {
        "id": "C16GRaCwKX9g"
      }
    },
    {
      "cell_type": "code",
      "source": [
        "# Example of indentation\n",
        "if True:\n",
        "    print(\"This is indented\")\n",
        "else:\n",
        "    print(\"This is also indented\")\n",
        "\n",
        "numbers = [10, 20, 30, 40, 50]\n",
        "sum = 0\n",
        "# Incorrect indentation\n",
        "for num in numbers:\n",
        "  sum += num\n",
        "average = sum / len(numbers)\n",
        "print(\"Average:\", average)\n"
      ],
      "metadata": {
        "id": "GY4DhNnfKYFz"
      },
      "execution_count": null,
      "outputs": []
    },
    {
      "cell_type": "markdown",
      "source": [
        "# **If statement and its related statement**\n"
      ],
      "metadata": {
        "id": "F8IEgaaMKYNE"
      }
    },
    {
      "cell_type": "code",
      "source": [
        "# Example of if statement\n",
        "x = 10\n",
        "if x > 5:\n",
        "    print(\"x is greater than 5\")\n",
        "elif x == 5:\n",
        "    print(\"x is equal to 5\")\n",
        "else:\n",
        "    print(\"x is less than 5\")\n",
        "\n",
        "\n",
        "#Example 2\n",
        "# User details\n",
        "user_name = \"John\"\n",
        "loyalty_tier = \"Gold\"\n",
        "total_purchase_amount = 500\n",
        "\n",
        "# Define discount rates for each loyalty tier\n",
        "silver_discount_rate = 0.05  # 5%\n",
        "gold_discount_rate = 0.1     # 10%\n",
        "platinum_discount_rate = 0.15 # 15%\n",
        "\n",
        "# Calculate discount based on loyalty tier\n",
        "if loyalty_tier == \"Silver\":\n",
        "    discount = total_purchase_amount * silver_discount_rate\n",
        "elif loyalty_tier == \"Gold\":\n",
        "    discount = total_purchase_amount * gold_discount_rate\n",
        "elif loyalty_tier == \"Platinum\":\n",
        "    discount = total_purchase_amount * platinum_discount_rate\n",
        "else:\n",
        "    print(\"Invalid loyalty tier\")\n",
        "    discount = 0\n",
        "\n",
        "# Calculate final amount to be paid\n",
        "final_amount = total_purchase_amount - discount\n",
        "\n",
        "# Display receipt\n",
        "print(\"Receipt for:\", user_name)\n",
        "print(\"Total Purchase Amount: $\", total_purchase_amount)\n",
        "print(\"Discount Applied: $\", discount)\n",
        "print(\"Final Amount to be Paid: $\", final_amount)\n",
        "\n"
      ],
      "metadata": {
        "id": "1Phwnx80KYTa"
      },
      "execution_count": null,
      "outputs": []
    },
    {
      "cell_type": "markdown",
      "source": [
        "# **Range**"
      ],
      "metadata": {
        "id": "1Cqkh2d4N-ic"
      }
    },
    {
      "cell_type": "code",
      "source": [
        "#Example1\n",
        "for num in range(0,10,1):\n",
        "    print(num)\n",
        "#Example2\n",
        "even_sum = 0\n",
        "for num in range(2, 101, 2):\n",
        "    even_sum += num\n",
        "print(\"Sum of even numbers from 1 to 100:\", even_sum)\n",
        "#Example3\n",
        "num = 5\n",
        "for i in range(1, 11):\n",
        "    print(num, \"x\", i, \"=\", num * i)\n",
        "#Example4\n",
        "for num in range(1, 11):\n",
        "    print(\"Square of\", num, \":\", num ** 2)\n"
      ],
      "metadata": {
        "id": "_07zALWMN-9I"
      },
      "execution_count": null,
      "outputs": []
    },
    {
      "cell_type": "markdown",
      "source": [
        "# **For Loop**"
      ],
      "metadata": {
        "id": "I5zFBV4xKYaX"
      }
    },
    {
      "cell_type": "code",
      "source": [
        "# Example of for loop\n",
        "fruits = [\"apple\", \"banana\", \"cherry\"]\n",
        "for fruit in fruits:\n",
        "    print(fruit)\n",
        "\n",
        "#complex Example\n",
        "\n",
        "# Sales data: Date, Product Name, Quantity Sold, Total Revenue\n",
        "sales_data = [\n",
        "    {\"date\": \"2024-05-01\", \"product\": \"Laptop\", \"quantity\": 10, \"revenue\": 5000},\n",
        "    {\"date\": \"2024-05-01\", \"product\": \"Mouse\", \"quantity\": 50, \"revenue\": 500},\n",
        "    {\"date\": \"2024-05-02\", \"product\": \"Keyboard\", \"quantity\": 20, \"revenue\": 1000},\n",
        "    {\"date\": \"2024-05-02\", \"product\": \"Laptop\", \"quantity\": 5, \"revenue\": 2500},\n",
        "    {\"date\": \"2024-05-03\", \"product\": \"Mouse\", \"quantity\": 30, \"revenue\": 300},\n",
        "    {\"date\": \"2024-05-03\", \"product\": \"Keyboard\", \"quantity\": 15, \"revenue\": 750}\n",
        "]\n",
        "\n",
        "# Initialize a dictionary to store total revenue for each product\n",
        "product_revenue = {}\n",
        "\n",
        "# Iterate over the sales data to calculate total revenue for each product\n",
        "for transaction in sales_data:\n",
        "    product_name = transaction[\"product\"]\n",
        "    revenue = transaction[\"revenue\"]\n",
        "    if product_name in product_revenue:\n",
        "        product_revenue[product_name] += revenue\n",
        "    else:\n",
        "        product_revenue[product_name] = revenue\n",
        "\n",
        "# Display total revenue for each product\n",
        "print(\"Total Revenue by Product:\")\n",
        "for product, revenue in product_revenue.items():\n",
        "    print(f\"{product}: ${revenue}\")\n",
        "\n"
      ],
      "metadata": {
        "id": "Tz13TK5pKYgm"
      },
      "execution_count": null,
      "outputs": []
    },
    {
      "cell_type": "markdown",
      "source": [
        "# **While Loop**"
      ],
      "metadata": {
        "id": "o-mKsAIWKYms"
      }
    },
    {
      "cell_type": "code",
      "source": [
        "# Example of while loop\n",
        "i = 0\n",
        "while i < 5:\n",
        "    print(i)\n",
        "    i += 1\n",
        "\n",
        "\n",
        "while True:\n",
        "    temperature, humidity = read_sensor_data()  # Function to read sensor data\n",
        "    if temperature > 30 and humidity > 60:\n",
        "        activate_cooling_system()  # Function to activate cooling system\n",
        "        print(\"High temperature and humidity detected. Cooling system activated.\")\n",
        "    elif temperature < 10:\n",
        "        activate_heating_system()  # Function to activate heating system\n",
        "        print(\"Low temperature detected. Heating system activated.\")\n",
        "    else:\n",
        "        print(\"Temperature and humidity within acceptable range.\")\n",
        "\n",
        "    time.sleep(300)  # Wait for 5 minutes before reading data again\n"
      ],
      "metadata": {
        "id": "6ExzNG8EKYtH"
      },
      "execution_count": null,
      "outputs": []
    },
    {
      "cell_type": "markdown",
      "source": [
        "# **Break and Continue**"
      ],
      "metadata": {
        "id": "-MLgV9UDKYzN"
      }
    },
    {
      "cell_type": "code",
      "source": [
        "# Example of break and continue\n",
        "for i in range(10):\n",
        "    if i == 3:\n",
        "        break\n",
        "    print(i)\n",
        "\n",
        "for i in range(5):\n",
        "    if i == 2:\n",
        "        continue\n",
        "    print(i)\n",
        "\n",
        "queue = [\"Alice\", \"Bob\", \"Charlie\", \"David\", \"Eve\", \"Frank\"]\n",
        "\n",
        "for customer in queue:\n",
        "    print(f\"Next customer in line: {customer}\")\n",
        "\n",
        "    # Check if customer needs special assistance\n",
        "    if customer == \"Charlie\":\n",
        "        print(\"Charlie needs special assistance. Skipping to the next customer.\")\n",
        "        continue\n",
        "\n",
        "    # Process customer's transaction\n",
        "    print(f\"Processing transaction for {customer}.\")\n",
        "\n",
        "    # Check if the bank is closing\n",
        "    if customer == \"Eve\":\n",
        "        print(\"Bank is closing. No more customers allowed.\")\n",
        "        break\n",
        "\n",
        "print(\"End of the day. Bank is closed.\")\n",
        "\n"
      ],
      "metadata": {
        "id": "4VQfruovKY49"
      },
      "execution_count": null,
      "outputs": []
    },
    {
      "cell_type": "markdown",
      "source": [
        "# **Practice Problems**"
      ],
      "metadata": {
        "id": "N-cM6DCfger8"
      }
    },
    {
      "cell_type": "code",
      "source": [
        "#Practice 1. Write a program that checks if a given number is positive, negative, or zero.\n",
        "#Practice 2: Create a loop that prints the first 10 even numbers.\n",
        "#Practice 3: Implement a program that finds the largest number in a list.\n",
        "#Practice 4: Find out missing number from sequenced list using range\n",
        "\"\"\"Pravtice 5: You are a data analyst at a company that sells electronic devices.\n",
        "You are given a dataset containing information about the sales of smartphones over the past month.\n",
        "Each record in the dataset includes the following information: the model of the smartphone sold, the quantity sold,\n",
        "and the revenue generated from those sales. Write a program to analyze this dataset and calculate the total number of smartphones sold,\n",
        "the total revenue generated, and the average revenue per smartphone sold.\"\"\""
      ],
      "metadata": {
        "id": "QjCf_5vEge0s"
      },
      "execution_count": null,
      "outputs": []
    },
    {
      "cell_type": "markdown",
      "source": [
        "# **Solution**"
      ],
      "metadata": {
        "id": "h3MKdtIlhHrk"
      }
    },
    {
      "cell_type": "code",
      "source": [
        "#1\n",
        "num = float(input(\"Enter a number: \"))\n",
        "if num > 0:\n",
        "  print(\"Positive\")\n",
        "elif num < 0:\n",
        "  print(\"Negative\")\n",
        "else:\n",
        "  print(\"Zero\")\n"
      ],
      "metadata": {
        "id": "8qf4Kr-OhH2T"
      },
      "execution_count": null,
      "outputs": []
    },
    {
      "cell_type": "code",
      "source": [
        "#2\n",
        "count = 0\n",
        "number = 0\n",
        "\n",
        "while count < 10:\n",
        "    if number % 2 == 0:\n",
        "        print(number)\n",
        "        count += 1\n",
        "    number += 1\n",
        "\n"
      ],
      "metadata": {
        "id": "158bg-iYhymW"
      },
      "execution_count": null,
      "outputs": []
    },
    {
      "cell_type": "code",
      "source": [
        "#3\n",
        "num_list = [5, 8, 2, 15, 3, 10]\n",
        "\n",
        "if not num_list:\n",
        "  print(\"invalid\")\n",
        "max_num = num_list[0]\n",
        "for num in num_list:\n",
        "  if num > max_num:\n",
        "    max_num = num\n",
        "print(max_num)\n"
      ],
      "metadata": {
        "id": "Dk2J9_bKlUKv"
      },
      "execution_count": null,
      "outputs": []
    },
    {
      "cell_type": "code",
      "source": [
        "#4\n",
        "# List of variable values\n",
        "variable_values = [1, 2, 3, 4, 5, 6, 7, 9,10]\n",
        "\n",
        "missing_value = None\n",
        "\n",
        "# Loop through the range from 1 to 10\n",
        "for i in range(1, 11):\n",
        "    # Check if the value is missing\n",
        "    if i not in variable_values:\n",
        "        missing_value = i\n",
        "        break\n",
        "\n",
        "if missing_value:\n",
        "    print(f\"The missing value is: {missing_value}\")\n",
        "else:\n",
        "    print(\"No value is missing from 1 to 10.\")\n"
      ],
      "metadata": {
        "id": "vmJqCKZllUXt"
      },
      "execution_count": null,
      "outputs": []
    },
    {
      "cell_type": "code",
      "source": [
        "#5\n",
        "# Dataset containing smartphone sales: (model, quantity sold, revenue)\n",
        "sales_data = [(\"iPhone 12\", 100, 10000), (\"Samsung Galaxy S21\", 150, 12000), (\"Google Pixel 5\", 80, 8000)]\n",
        "\n",
        "total_sold = 0\n",
        "total_revenue = 0\n",
        "\n",
        "# Analyzing the dataset\n",
        "for model, quantity, revenue in sales_data:\n",
        "    total_sold += quantity\n",
        "    total_revenue += revenue\n",
        "\n",
        "average_revenue_per_phone = total_revenue / total_sold\n",
        "\n",
        "print(\"=== Sales Analysis ===\")\n",
        "print(f\"Total smartphones sold: {total_sold}\")\n",
        "print(f\"Total revenue generated: {total_revenue}\")\n",
        "print(f\"Average revenue per smartphone: {average_revenue_per_phone}\")\n"
      ],
      "metadata": {
        "id": "0HraWsAxlUgb"
      },
      "execution_count": null,
      "outputs": []
    }
  ]
}