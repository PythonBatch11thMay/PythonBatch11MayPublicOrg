{
  "nbformat": 4,
  "nbformat_minor": 0,
  "metadata": {
    "colab": {
      "private_outputs": true,
      "provenance": [],
      "authorship_tag": "ABX9TyNuGQEFQpjZjP6LHoAXY0A+",
      "include_colab_link": true
    },
    "kernelspec": {
      "name": "python3",
      "display_name": "Python 3"
    },
    "language_info": {
      "name": "python"
    }
  },
  "cells": [
    {
      "cell_type": "markdown",
      "metadata": {
        "id": "view-in-github",
        "colab_type": "text"
      },
      "source": [
        "<a href=\"https://colab.research.google.com/github/vaishtiwari74/PythonBatch11MayPublic/blob/main/Day2/Day2.ipynb\" target=\"_parent\"><img src=\"https://colab.research.google.com/assets/colab-badge.svg\" alt=\"Open In Colab\"/></a>"
      ]
    },
    {
      "cell_type": "markdown",
      "source": [
        "# **The print statement**"
      ],
      "metadata": {
        "id": "7qGrGd-GOaIb"
      }
    },
    {
      "cell_type": "code",
      "source": [
        "\n",
        "\n",
        "# Example 1: Printing a string\n",
        "print(\"Hello, World!\")\n",
        "\n",
        "# Example 2: Printing multiple items\n",
        "name = \"Alice\"\n",
        "age = 30\n",
        "print(\"Name:\", name, \"Age:\", age)\n",
        "\n",
        "# Example 3: Printing with formatting\n",
        "score = 95.5\n",
        "print(f\"Score: {score}\")\n"
      ],
      "metadata": {
        "id": "zxpUWd_YOahv"
      },
      "execution_count": null,
      "outputs": []
    },
    {
      "cell_type": "markdown",
      "source": [
        "# **comments**"
      ],
      "metadata": {
        "id": "QaxxzeD_OjZA"
      }
    },
    {
      "cell_type": "code",
      "source": [
        "# Example 1: Single-line comment\n",
        "# This is a comment\n",
        "\n",
        "# Example 2: Multi-line comment\n",
        "\"\"\"\n",
        "This is a multi-line comment\n",
        "It can span multiple lines\n",
        "\"\"\"\n",
        "\n",
        "# Example 3: Comments for clarification\n",
        "total = 100  # Total number of items\n"
      ],
      "metadata": {
        "id": "CwYpTyW0Ojq3"
      },
      "execution_count": null,
      "outputs": []
    },
    {
      "cell_type": "markdown",
      "source": [
        "# **Python Data Structures & Data Types**"
      ],
      "metadata": {
        "id": "GCM1kOFDOj0H"
      }
    },
    {
      "cell_type": "code",
      "source": [
        "# Example 1: Lists\n",
        "fruits = [\"apple\", \"banana\", \"orange\"]\n",
        "\n",
        "# Example 2: Dictionaries\n",
        "person = {\"name\": \"Alice\", \"age\": 30, \"city\": \"New York\"}\n",
        "\n",
        "# Example 3: Tuples\n",
        "coordinates = (10, 20)\n"
      ],
      "metadata": {
        "id": "EGaoeaZ5OkFJ"
      },
      "execution_count": null,
      "outputs": []
    },
    {
      "cell_type": "markdown",
      "source": [
        "# **String Operations in Python**"
      ],
      "metadata": {
        "id": "mhri8uPfOkSS"
      }
    },
    {
      "cell_type": "code",
      "source": [
        "# Example 1: Concatenation\n",
        "greeting = \"Hello\"\n",
        "name = \"Alice\"\n",
        "message = greeting + \", \" + name + \"!\"\n",
        "\n",
        "# Example 2: String methods\n",
        "sentence = \"hello, world\"\n",
        "uppercase_sentence = sentence.upper()\n",
        "\n",
        "# Example 3: String slicing\n",
        "word = \"Python\"\n",
        "first_three_letters = word[:3]\n"
      ],
      "metadata": {
        "id": "JNn7U5zqOkZK"
      },
      "execution_count": null,
      "outputs": []
    },
    {
      "cell_type": "markdown",
      "source": [
        "# **Simple input & output**"
      ],
      "metadata": {
        "id": "HFP0jz-UOkgn"
      }
    },
    {
      "cell_type": "code",
      "source": [
        "# Example 1: Simple input\n",
        "name = input(\"Enter your name: \")\n",
        "print(\"Hello,\", name)\n",
        "\n",
        "# Example 2: Calculations based on input\n",
        "age = int(input(\"Enter your age: \"))\n",
        "year_of_birth = 2024 - age\n",
        "print(\"You were born in\", year_of_birth)\n",
        "\n",
        "# Example 3: Output based on condition\n",
        "num = int(input(\"Enter a number: \"))\n",
        "if num % 2 == 0:\n",
        "    print(\"Even\")\n",
        "else:\n",
        "    print(\"Odd\")\n"
      ],
      "metadata": {
        "id": "b3-x833SOkm9"
      },
      "execution_count": null,
      "outputs": []
    },
    {
      "cell_type": "markdown",
      "source": [
        "# **Simple Output Formatting**"
      ],
      "metadata": {
        "id": "jSmJbcYaOkuo"
      }
    },
    {
      "cell_type": "code",
      "source": [
        "# Example 1: Using format()\n",
        "name = \"Alice\"\n",
        "age = 30\n",
        "print(\"Name: {}, Age: {}\".format(name, age))\n",
        "\n",
        "# Example 2: Padding numbers\n",
        "num = 5\n",
        "print(\"Padded number:\", \"{:02d}\".format(num))\n",
        "\n",
        "# Example 3: Formatting floating-point numbers\n",
        "pi = 3.14159\n",
        "print(\"Value of pi: {:.2f}\".format(pi))\n"
      ],
      "metadata": {
        "id": "Cno37QP1Ok0e"
      },
      "execution_count": null,
      "outputs": []
    },
    {
      "cell_type": "markdown",
      "source": [
        "# **Operators in Python**"
      ],
      "metadata": {
        "id": "fckT0NSYOk6u"
      }
    },
    {
      "cell_type": "code",
      "source": [
        "# Example 1: Arithmetic operators\n",
        "x = 10\n",
        "y = 3\n",
        "print(\"Addition:\", x + y)\n",
        "print(\"Subtraction:\", x - y)\n",
        "print(\"Multiplication:\", x * y)\n",
        "\n",
        "# Example 2: Comparison operators\n",
        "a = 5\n",
        "b = 10\n",
        "print(\"Is a greater than b?\", a > b)\n",
        "print(\"Is a equal to b?\", a == b)\n",
        "\n",
        "# Example 3: Logical operators\n",
        "is_raining = True\n",
        "is_sunny = False\n",
        "print(\"Is it not raining and sunny?\", not is_raining and is_sunny)\n"
      ],
      "metadata": {
        "id": "ekjdVuVyOlAv"
      },
      "execution_count": null,
      "outputs": []
    },
    {
      "cell_type": "markdown",
      "source": [],
      "metadata": {
        "id": "Ib6tje7mOlGK"
      }
    },
    {
      "cell_type": "code",
      "source": [],
      "metadata": {
        "id": "cuHsDjbpOlL_"
      },
      "execution_count": null,
      "outputs": []
    }
  ]
}