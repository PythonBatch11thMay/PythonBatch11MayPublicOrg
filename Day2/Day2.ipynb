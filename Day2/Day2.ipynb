{
  "nbformat": 4,
  "nbformat_minor": 0,
  "metadata": {
    "colab": {
      "private_outputs": true,
      "provenance": [],
      "collapsed_sections": [
        "7qGrGd-GOaIb",
        "4LwKaKxYdDnE",
        "QaxxzeD_OjZA",
        "GCM1kOFDOj0H",
        "mhri8uPfOkSS",
        "HFP0jz-UOkgn",
        "jSmJbcYaOkuo",
        "fckT0NSYOk6u",
        "8eYt2xNkcH6a",
        "DfFPyYvscPOy",
        "gy7cwxtAcPi0",
        "m2Y61unucPyC"
      ],
      "authorship_tag": "ABX9TyNN7KJbDpLvZkivb66wsuMQ",
      "include_colab_link": true
    },
    "kernelspec": {
      "name": "python3",
      "display_name": "Python 3"
    },
    "language_info": {
      "name": "python"
    }
  },
  "cells": [
    {
      "cell_type": "markdown",
      "metadata": {
        "id": "view-in-github",
        "colab_type": "text"
      },
      "source": [
        "<a href=\"https://colab.research.google.com/github/PythonBatch11thMay/PythonBatch11MayPublicOrg/blob/main/Day2/Day2.ipynb\" target=\"_parent\"><img src=\"https://colab.research.google.com/assets/colab-badge.svg\" alt=\"Open In Colab\"/></a>"
      ]
    },
    {
      "cell_type": "markdown",
      "source": [
        "# **The print statement**"
      ],
      "metadata": {
        "id": "7qGrGd-GOaIb"
      }
    },
    {
      "cell_type": "code",
      "source": [
        "# Example 1: Printing a string\n",
        "print(\"Hello, World!\")\n",
        "\n",
        "# Example 2: Printing multiple items\n",
        "\n",
        "name = \"Alice\"\n",
        "age = 30\n",
        "print(f\"Name: {name} Age: {age}\")\n",
        "\n",
        "print(\"Name:\", name, \"Age:\", age)\n",
        "\n",
        "# Example 3: Printing with formatting\n",
        "score = 95.5\n",
        "print(f\"Score: {score}\")\n"
      ],
      "metadata": {
        "id": "zxpUWd_YOahv"
      },
      "execution_count": null,
      "outputs": []
    },
    {
      "cell_type": "markdown",
      "source": [
        "# **Variables**"
      ],
      "metadata": {
        "id": "4LwKaKxYdDnE"
      }
    },
    {
      "cell_type": "code",
      "source": [
        "# Example 1: Integer variable\n",
        "age = 25\n",
        "\n",
        "# Example 2: Floating-point variable\n",
        "pi = 3.14\n",
        "\n",
        "# Example 3: String variable\n",
        "name = \"Alice\"\n",
        "\n",
        "# Example 4: Boolean variable\n",
        "is_student = True\n",
        "\n",
        "# Example 5: List variable\n",
        "numbers = [1, 2, 3, 4, 5]\n",
        "\n",
        "# Example 6: Tuple variable\n",
        "coordinates = (10, 20)\n",
        "\n",
        "# Example 7: Dictionary variable\n",
        "person = {\"name\": \"Bob\", \"age\": 30}\n",
        "\n",
        "# Example 8: Set variable\n",
        "unique_numbers = {1, 2, 3, 4, 5}\n",
        "\n",
        "# Example 9: None variable\n",
        "result = None\n",
        "\n",
        "\n",
        "# Assigning and reassigning variables\n",
        "x = 10\n",
        "x = \"Hello\"\n",
        "\n",
        "# Dynamic typing\n",
        "x = 10  # x is an integer\n",
        "x = \"Hello\"  # Now x is a string\n"
      ],
      "metadata": {
        "id": "eGaLXZMsdFjp"
      },
      "execution_count": null,
      "outputs": []
    },
    {
      "cell_type": "markdown",
      "source": [
        "# **comments**"
      ],
      "metadata": {
        "id": "QaxxzeD_OjZA"
      }
    },
    {
      "cell_type": "code",
      "source": [
        "# Example 1: Single-line comment\n",
        "# This is a comment\n",
        "#a=10\n",
        "# Example 2: Multi-line comment\n",
        "\"\"\"\n",
        "This is a multi-line comment\n",
        "It can span multiple lines\n",
        "\"\"\"\n",
        "# a=10\n",
        "# a=10\n",
        "# a=10\n",
        "# a=10\n",
        "#ctrl + /\n",
        "\n",
        "\n",
        "# Example 3: Comments for clarification\n",
        "total = 100  # Total number of items"
      ],
      "metadata": {
        "id": "CwYpTyW0Ojq3"
      },
      "execution_count": null,
      "outputs": []
    },
    {
      "cell_type": "markdown",
      "source": [
        "# **Python Data Structures & Data Types**"
      ],
      "metadata": {
        "id": "GCM1kOFDOj0H"
      }
    },
    {
      "cell_type": "code",
      "source": [
        "# Example 1: Lists\n",
        "fruits = [\"apple\", \"banana\", \"orange\"]\n",
        "\n",
        "# Example 2: Dictionaries\n",
        "person = {\"name\": \"Alice\", \"age\": 30, \"city\": \"New York\"}\n",
        "\n",
        "# Example 3: Tuples\n",
        "coordinates = (10, 20)\n"
      ],
      "metadata": {
        "id": "EGaoeaZ5OkFJ"
      },
      "execution_count": null,
      "outputs": []
    },
    {
      "cell_type": "markdown",
      "source": [
        "# **String Operations in Python**"
      ],
      "metadata": {
        "id": "mhri8uPfOkSS"
      }
    },
    {
      "cell_type": "code",
      "source": [
        "# Example 1: Concatenation\n",
        "greeting = \"Hello\"\n",
        "name = \"Alice\"\n",
        "message = greeting + \", \" + name + \"!\"\n",
        "\n",
        "# Example 2: String methods\n",
        "sentence = \"hello, world\"\n",
        "uppercase_sentence = sentence.upper()\n",
        "\n",
        "# Example 3: String slicing\n",
        "word = \"Python\"\n",
        "first_three_letters = word[:3]\n",
        "\n",
        "name=\"Mithun\"\n",
        "name=name[0:3]\n",
        "print(name)\n",
        "\n"
      ],
      "metadata": {
        "id": "JNn7U5zqOkZK"
      },
      "execution_count": null,
      "outputs": []
    },
    {
      "cell_type": "markdown",
      "source": [
        "# **Simple input & output**"
      ],
      "metadata": {
        "id": "HFP0jz-UOkgn"
      }
    },
    {
      "cell_type": "code",
      "source": [
        "# Example 1: Simple input\n",
        "name = input(\"Enter your name: \")\n",
        "print(\"Hello,\", name)\n",
        "\n",
        "# Example 2: Calculations based on input\n",
        "age = int(input(\"Enter your age: \"))\n",
        "year_of_birth = 2024 - age\n",
        "print(\"You were born in\", year_of_birth)\n",
        "\n",
        "# Example 3: Output based on condition\n",
        "num = int(input(\"Enter a number: \"))\n",
        "if num % 2 == 0:\n",
        "    print(\"Even\")\n",
        "else:\n",
        "    print(\"Odd\")\n"
      ],
      "metadata": {
        "id": "b3-x833SOkm9"
      },
      "execution_count": null,
      "outputs": []
    },
    {
      "cell_type": "markdown",
      "source": [
        "# **Simple Output Formatting**"
      ],
      "metadata": {
        "id": "jSmJbcYaOkuo"
      }
    },
    {
      "cell_type": "code",
      "source": [
        "# Example 1: Using format()\n",
        "name = \"Alice\"\n",
        "age = 30\n",
        "print(\"Name: {}, Age: {}\".format(name, age))\n",
        "print(f\"Name: {name}, Age: {age}\")\n",
        "# Example 2: Padding numbers\n",
        "num = 5\n",
        "print(\"Padded number:\", \"{:05d}\".format(num))\n",
        "\n",
        "# Example 3: Formatting floating-point numbers\n",
        "pi = 3.14159\n",
        "print(\"Value of pi: {:.2f}\".format(pi))\n"
      ],
      "metadata": {
        "id": "Cno37QP1Ok0e"
      },
      "execution_count": null,
      "outputs": []
    },
    {
      "cell_type": "markdown",
      "source": [
        "# **Operators in Python**"
      ],
      "metadata": {
        "id": "fckT0NSYOk6u"
      }
    },
    {
      "cell_type": "code",
      "source": [
        "# Example 1: Arithmetic operators\n",
        "x = 10\n",
        "y = 3\n",
        "print(\"Addition:\", x + y)\n",
        "print(\"Subtraction:\", x - y)\n",
        "print(\"Multiplication:\", x * y)\n",
        "\n",
        "\n",
        "a=10 # 10\n",
        "a==10 # True False\n",
        "\n",
        "# Example 2: Comparison operators\n",
        "a = 5\n",
        "b = 10\n",
        "print(\"Is a greater than b?\", a > b)\n",
        "print(\"Is a equal to b?\", a == b)\n",
        "\n",
        "# Example 3: Logical operators\n",
        "is_raining = True\n",
        "is_sunny = False\n",
        "print(\"Is it not raining and sunny?\", not is_raining and is_sunny) #False and False\n"
      ],
      "metadata": {
        "id": "ekjdVuVyOlAv"
      },
      "execution_count": null,
      "outputs": []
    },
    {
      "cell_type": "markdown",
      "source": [
        "# **Numeric Types**"
      ],
      "metadata": {
        "id": "8eYt2xNkcH6a"
      }
    },
    {
      "cell_type": "code",
      "source": [
        "# Examples\n",
        "num_int = 10\n",
        "num_float = 3.14"
      ],
      "metadata": {
        "id": "lgc98TdXcO7g"
      },
      "execution_count": null,
      "outputs": []
    },
    {
      "cell_type": "markdown",
      "source": [
        "# **Sequence Types**"
      ],
      "metadata": {
        "id": "DfFPyYvscPOy"
      }
    },
    {
      "cell_type": "code",
      "source": [
        "# Examples\n",
        "my_list = [1, 2, 3, 4, 5]\n",
        "my_tuple = (1, 2, 3)\n",
        "my_string = \"Hello\"\n"
      ],
      "metadata": {
        "id": "oB7uKvctcPZ0"
      },
      "execution_count": null,
      "outputs": []
    },
    {
      "cell_type": "markdown",
      "source": [
        "# **Mapping Type**"
      ],
      "metadata": {
        "id": "gy7cwxtAcPi0"
      }
    },
    {
      "cell_type": "code",
      "source": [
        "# Example\n",
        "my_dict = {\"name\": \"Alice\", \"age\": 30, \"city\": \"New York\"}\n"
      ],
      "metadata": {
        "id": "ulophWencPrg"
      },
      "execution_count": null,
      "outputs": []
    },
    {
      "cell_type": "markdown",
      "source": [
        "# **Boolean Type**"
      ],
      "metadata": {
        "id": "m2Y61unucPyC"
      }
    },
    {
      "cell_type": "code",
      "source": [
        "# Examples\n",
        "is_raining = True\n",
        "is_sunny = False\n"
      ],
      "metadata": {
        "id": "hgmBicH6cP3i"
      },
      "execution_count": null,
      "outputs": []
    }
  ]
}