{
  "nbformat": 4,
  "nbformat_minor": 0,
  "metadata": {
    "colab": {
      "private_outputs": true,
      "provenance": [],
      "authorship_tag": "ABX9TyNHaxjiaC1Jq9jn2AmYXp9z",
      "include_colab_link": true
    },
    "kernelspec": {
      "name": "python3",
      "display_name": "Python 3"
    },
    "language_info": {
      "name": "python"
    }
  },
  "cells": [
    {
      "cell_type": "markdown",
      "metadata": {
        "id": "view-in-github",
        "colab_type": "text"
      },
      "source": [
        "<a href=\"https://colab.research.google.com/github/PythonBatch11thMay/PythonBatch11MayPublicOrg/blob/main/Day11/Day11.ipynb\" target=\"_parent\"><img src=\"https://colab.research.google.com/assets/colab-badge.svg\" alt=\"Open In Colab\"/></a>"
      ]
    },
    {
      "cell_type": "markdown",
      "source": [
        "**Project: Analyzing Titanic Passenger Data\n",
        "Objective:\n",
        "Read a CSV file containing Titanic passenger data from the web and perform various transformations and analyses using pandas, loops, if statements, lists, dictionaries, and functions.**\n",
        "\n",
        "Steps and Transformations:\n",
        "\n",
        "1.Read the CSV file from the web:\n",
        "Use pandas to read a CSV file from a given URL.\n",
        "url = 'https://raw.githubusercontent.com/datasciencedojo/datasets/master/titanic.csv'\n",
        "\n",
        "2.Display basic information:\n",
        "Print the first few rows and basic info about the dataframe.\n",
        "\n",
        "3.Handle missing values:\n",
        "Check for and handle any missing values.\n",
        "\n",
        "4.Filter the data:\n",
        "Filter the dataframe for a specific condition (e.g., passengers who survived).\n",
        "\n",
        "5.Add a new column:\n",
        "Add a new column that calculates the family size (SibSp + Parch + 1).\n",
        "\n",
        "6.Group by and aggregate:\n",
        "Group the data by a specific column and perform aggregation (e.g., average age by passenger class).\n",
        "\n",
        "7.Sorting:\n",
        "Sort the dataframe based on a specific column.\n",
        "\n",
        "8.Using loops:\n",
        "Use a loop to iterate over the rows and perform an operation (e.g., classify passengers into categories based on age).\n",
        "\n",
        "9.Using if statements:\n",
        "Use an if statement inside a function to classify passengers based on their fare.\n",
        "\n",
        "10.Using lists and dictionaries:\n",
        "Create lists and dictionaries to store and analyze specific information from the dataframe."
      ],
      "metadata": {
        "id": "4ZWMW5v8Lglo"
      }
    },
    {
      "cell_type": "code",
      "source": [],
      "metadata": {
        "id": "B_0PACNGLhGi"
      },
      "execution_count": null,
      "outputs": []
    }
  ]
}