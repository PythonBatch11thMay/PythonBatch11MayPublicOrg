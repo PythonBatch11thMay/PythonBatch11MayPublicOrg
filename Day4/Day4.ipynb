{
  "nbformat": 4,
  "nbformat_minor": 0,
  "metadata": {
    "colab": {
      "provenance": [],
      "authorship_tag": "ABX9TyPkJjFGdYivUP9SqHVwIlav",
      "include_colab_link": true
    },
    "kernelspec": {
      "name": "python3",
      "display_name": "Python 3"
    },
    "language_info": {
      "name": "python"
    }
  },
  "cells": [
    {
      "cell_type": "markdown",
      "metadata": {
        "id": "view-in-github",
        "colab_type": "text"
      },
      "source": [
        "<a href=\"https://colab.research.google.com/github/PythonBatch11thMay/PythonBatch11MayPublicOrg/blob/main/Day4/Day4.ipynb\" target=\"_parent\"><img src=\"https://colab.research.google.com/assets/colab-badge.svg\" alt=\"Open In Colab\"/></a>"
      ]
    },
    {
      "cell_type": "markdown",
      "source": [
        "Accessing List Element"
      ],
      "metadata": {
        "id": "wb5Qk_UwPagb"
      }
    },
    {
      "cell_type": "code",
      "source": [
        "# Define a list\n",
        "my_list = [10, 20, 30, 40, 50]\n",
        "\n",
        "# Accessing elements by index\n",
        "print(my_list[0])  # Output: 10\n",
        "print(my_list[-1])  # Output: 50 (last element)\n",
        "\n",
        "# Accessing a slice of elements\n",
        "print(my_list[1:4])  # Output: [20, 30, 40] (elements from index 1 to 3)\n",
        "\n",
        "my_list = ['Hello', 'world', '!']\n",
        "my_string = ' '.join(my_list)\n",
        "print(my_string)  # Output: Hello world !\n",
        "\n",
        "my_string = \"Hello world !\"\n",
        "my_list = my_string.split()\n",
        "print(my_list)  # Output: ['Hello', 'world', '!']\n",
        "\n"
      ],
      "metadata": {
        "colab": {
          "base_uri": "https://localhost:8080/"
        },
        "id": "4L8FcD9RPcKb",
        "outputId": "705f4bfb-fa42-499c-a496-0de3659943a4"
      },
      "execution_count": 1,
      "outputs": [
        {
          "output_type": "stream",
          "name": "stdout",
          "text": [
            "10\n",
            "50\n",
            "[20, 30, 40]\n"
          ]
        }
      ]
    },
    {
      "cell_type": "markdown",
      "source": [
        "Appending List"
      ],
      "metadata": {
        "id": "z1NlymZoPcX-"
      }
    },
    {
      "cell_type": "code",
      "source": [
        "# Define a list\n",
        "my_list = [10, 20, 30]\n",
        "\n",
        "# Appending elements\n",
        "my_list.append(40)  # Add 40 to the end of the list\n",
        "print(my_list)  # Output: [10, 20, 30, 40]\n",
        "my_list+=[50]\n",
        "# Removing elements\n",
        "my_list.remove(20)  # Remove the first occurrence of 20\n",
        "print(my_list)  # Output: [10, 30]\n"
      ],
      "metadata": {
        "colab": {
          "base_uri": "https://localhost:8080/"
        },
        "id": "PVoQMdMtPcez",
        "outputId": "5b0e23eb-5f46-489c-dd5d-24e41a2a11e2"
      },
      "execution_count": 3,
      "outputs": [
        {
          "output_type": "stream",
          "name": "stdout",
          "text": [
            "[10, 20, 30, 40]\n",
            "[10, 30, 40, 50]\n"
          ]
        }
      ]
    },
    {
      "cell_type": "markdown",
      "source": [
        "Iterating List"
      ],
      "metadata": {
        "id": "q-bXMDOzPck_"
      }
    },
    {
      "cell_type": "code",
      "source": [
        "# Define a list\n",
        "my_list = [10, 20, 30, 40, 50]\n",
        "\n",
        "# Iterating over elements\n",
        "for item in my_list:\n",
        "    print(item)\n",
        "# Output:\n",
        "# 10\n",
        "# 20\n",
        "# 30\n",
        "# 40\n",
        "# 50\n"
      ],
      "metadata": {
        "colab": {
          "base_uri": "https://localhost:8080/"
        },
        "id": "cGsgtrRWPcqd",
        "outputId": "847bd218-4d90-4197-b89d-18304ece0fba"
      },
      "execution_count": 4,
      "outputs": [
        {
          "output_type": "stream",
          "name": "stdout",
          "text": [
            "10\n",
            "20\n",
            "30\n",
            "40\n",
            "50\n"
          ]
        }
      ]
    },
    {
      "cell_type": "markdown",
      "source": [
        "Merge Two List"
      ],
      "metadata": {
        "id": "OBaYphGoPcwl"
      }
    },
    {
      "cell_type": "code",
      "source": [
        "# Define two lists\n",
        "list1 = [1, 2, 3]\n",
        "list2 = [4, 5, 6]\n",
        "\n",
        "# Concatenating lists\n",
        "concatenated_list = list1 + list2\n",
        "print(concatenated_list)  # Output: [1, 2, 3, 4, 5, 6]\n",
        "\n",
        "# Repeating elements in a list\n",
        "repeated_list = list1 * 3\n",
        "print(repeated_list)  # Output: [1, 2, 3, 1, 2, 3, 1, 2, 3]\n"
      ],
      "metadata": {
        "colab": {
          "base_uri": "https://localhost:8080/"
        },
        "id": "Y35InZZVPc2I",
        "outputId": "eeead048-cbb3-4330-d6c9-f145e19133f3"
      },
      "execution_count": 4,
      "outputs": [
        {
          "output_type": "stream",
          "name": "stdout",
          "text": [
            "[1, 2, 3, 4, 5, 6]\n",
            "[1, 2, 3, 1, 2, 3, 1, 2, 3]\n"
          ]
        }
      ]
    },
    {
      "cell_type": "markdown",
      "source": [
        "Problems on List"
      ],
      "metadata": {
        "id": "qYsigY-oPc7t"
      }
    },
    {
      "cell_type": "code",
      "source": [
        "#Write a Python code to calculate the element-wise sum of two lists and store the result in a new list.\n",
        "#Write a Python code to find the common elements in two lists and store them in a new list.\n",
        "#Write a Python code to remove duplicate elements from a list while preserving the original order.\n",
        "#Write a Python code to find the maximum element in a nested list.\n"
      ],
      "metadata": {
        "id": "5eV_gNG4PdA4"
      },
      "execution_count": 5,
      "outputs": []
    },
    {
      "cell_type": "markdown",
      "source": [
        "Solutions"
      ],
      "metadata": {
        "id": "01KPSzAFPdFj"
      }
    },
    {
      "cell_type": "code",
      "source": [
        "#1\n",
        "list1 = [1, 2, 3, 4]\n",
        "list2 = [5, 6, 7, 8]\n",
        "\n",
        "\n",
        "result = []\n",
        "for i in range(len(list1)):\n",
        "    result.append(list1[i] + list2[i])\n",
        "print(result)  # Output: [6, 8, 10, 12]\n",
        "\n",
        "# result = [list1[i] + list2[i] for i in range(len(list1))]\n",
        "# print(result)  # Output: [6, 8, 10, 12]\n",
        "\n",
        "\n",
        "#2\n",
        "list1 = [1, 2, 3, 4, 5]\n",
        "list2 = [4, 5, 6, 7, 8]\n",
        "\n",
        "# common_elements = []\n",
        "# for item in list1:\n",
        "#     if item in list2:\n",
        "#         common_elements.append(item)\n",
        "# print(common_elements)  # Output: [4, 5]\n",
        "\n",
        "\n",
        "common_elements = [item for item in list1 if item in list2]\n",
        "print(common_elements)  # Output: [4, 5]\n",
        "\n",
        "\n",
        "\n",
        "#3\n",
        "my_list = [1, 2, 2, 3, 4, 4, 5]\n",
        "\n",
        "result = []\n",
        "for item in my_list:\n",
        "    if item not in result:\n",
        "        result.append(item)\n",
        "print(result)  # Output: [1, 2, 3, 4, 5]\n",
        "\n",
        "\n",
        "# result = []\n",
        "# [result.append(item) for item in my_list if item not in result]\n",
        "# print(result)  # Output: [1, 2, 3, 4, 5]\n",
        "\n",
        "\n",
        "#4\n",
        "nested_list = [[1, 2, 3], [4, 10, 6], [7, 8, 9]]\n",
        "\n",
        "max_element = 1\n",
        "for sublist in nested_list:\n",
        "    for item in sublist:\n",
        "        if item > max_element:\n",
        "            max_element = item\n",
        "print(max_element)  # Output: 9\n",
        "\n",
        "max_element = max(item for sublist in nested_list for item in sublist)\n",
        "print(max_element)  # Output: 9\n"
      ],
      "metadata": {
        "colab": {
          "base_uri": "https://localhost:8080/"
        },
        "id": "yl8INkqdPdLR",
        "outputId": "fa7c8c04-ad1b-42a4-ccee-d03f8687c7f7"
      },
      "execution_count": 6,
      "outputs": [
        {
          "output_type": "stream",
          "name": "stdout",
          "text": [
            "[6, 8, 10, 12]\n",
            "[4, 5]\n",
            "[1, 2, 3, 4, 5]\n",
            "10\n",
            "10\n"
          ]
        }
      ]
    },
    {
      "cell_type": "markdown",
      "source": [
        "Tuple"
      ],
      "metadata": {
        "id": "6--1VLY7PdSU"
      }
    },
    {
      "cell_type": "code",
      "source": [
        "# Tuple\n",
        "my_tuple = (10, 20, 30, 40, 50)\n",
        "\n",
        "# Accessing the third element\n",
        "third_element = my_tuple[2]\n",
        "print(third_element)  # Output: 30\n",
        "\n",
        "\n",
        "# Tuple\n",
        "my_tuple = (1, 2, 3, 4, 5)\n",
        "\n",
        "# Iterating over tuple\n",
        "for item in my_tuple:\n",
        "    print(item)\n",
        "# Output:\n",
        "# 1\n",
        "# 2\n",
        "# 3\n",
        "# 4\n",
        "# 5\n",
        "\n",
        "\n",
        "# Accessing elements in a tuple is fast\n",
        "my_tuple = (1, 2, 3, 4, 5)\n",
        "print(my_tuple[2])  # Output: 3\n",
        "\n",
        "# Modifying elements in a tuple (this will raise an error)\n",
        "my_tuple[2] = 10\n",
        "\n"
      ],
      "metadata": {
        "colab": {
          "base_uri": "https://localhost:8080/"
        },
        "id": "OBPckMQGPdZo",
        "outputId": "71f1d6bf-e232-4fe2-b7c2-fe42cfc1eaee"
      },
      "execution_count": 8,
      "outputs": [
        {
          "output_type": "stream",
          "name": "stdout",
          "text": [
            "30\n",
            "30\n",
            "1\n",
            "2\n",
            "3\n",
            "4\n",
            "5\n"
          ]
        }
      ]
    },
    {
      "cell_type": "markdown",
      "source": [
        "Problems on Tuple"
      ],
      "metadata": {
        "id": "PBbrgoVBVE2I"
      }
    },
    {
      "cell_type": "code",
      "source": [
        "# Write a Python code to merge two tuples into a single tuple.\n",
        "# Write a Python code to reverse the elements of a tuple.\n",
        "# Write a Python code to check if a tuple is a palindrome (reads the same forwards and backwards).\n"
      ],
      "metadata": {
        "id": "d23V66GpVSxb"
      },
      "execution_count": null,
      "outputs": []
    },
    {
      "cell_type": "code",
      "source": [
        "# Write a Python code to merge two tuples into a single tuple.\n",
        "\n",
        "tuple1 = ('a', 'b', 'c')\n",
        "tuple2 = ('x', 'y', 'z')\n",
        "\n",
        "# Solution\n",
        "merged_tuple = tuple1 + tuple2\n",
        "print(merged_tuple)  # Output: ('a', 'b', 'c', 'x', 'y', 'z')\n",
        "\n",
        "# Write a Python code to reverse the elements of a tuple.\n",
        "\n",
        "my_tuple = (1, 2, 3, 4, 5)\n",
        "\n",
        "# Solution\n",
        "reversed_tuple = my_tuple[::-1]\n",
        "print(reversed_tuple)  # Output: (5, 4, 3, 2, 1)\n",
        "\n",
        "\n",
        "\n",
        "# Write a Python code to check if a tuple is a palindrome (reads the same forwards and backwards).\n",
        "\n",
        "palindrome_tuple = (1, 2, 3, 2, 1)\n",
        "non_palindrome_tuple = (1, 2, 3, 4, 5)\n",
        "\n",
        "# Solution\n",
        "is_palindrome = palindrome_tuple == palindrome_tuple[::-1]\n",
        "print(is_palindrome)  # Output: True\n",
        "\n",
        "is_palindrome = non_palindrome_tuple == non_palindrome_tuple[::-1]\n",
        "print(is_palindrome)  # Output: False\n"
      ],
      "metadata": {
        "colab": {
          "base_uri": "https://localhost:8080/"
        },
        "id": "vP_2MTyfVFM9",
        "outputId": "7f471571-71cb-4dd1-c60f-33de32ef03a6"
      },
      "execution_count": 9,
      "outputs": [
        {
          "output_type": "stream",
          "name": "stdout",
          "text": [
            "('a', 'b', 'c', 'x', 'y', 'z')\n",
            "(5, 4, 3, 2, 1)\n",
            "{1: 1, 2: 2, 3: 3, 4: 4}\n",
            "True\n",
            "False\n"
          ]
        }
      ]
    },
    {
      "cell_type": "markdown",
      "source": [
        "Dictonary"
      ],
      "metadata": {
        "id": "zrRQ1_ChVz56"
      }
    },
    {
      "cell_type": "code",
      "source": [
        "person = {\n",
        "    'name': 'Alice',\n",
        "    'age': 30,\n",
        "    'city': 'New York'\n",
        "}\n",
        "\n",
        "\n",
        "# Accessing information about the person\n",
        "print(person['name'])  # Output: Alice\n",
        "print(person['age'])   # Output: 30\n",
        "\n",
        "\n",
        "# Nested dictionary representing a student's information\n",
        "student = {\n",
        "    'name': 'mithun',\n",
        "    'age': 25,\n",
        "    'courses': ['Math', 'Physics'],\n",
        "    'grades': {'Math': 90, 'Physics': 85}\n",
        "}\n",
        "\n",
        "# Adding a new key-value pair\n",
        "person['email'] = 'mithun@example.com'\n",
        "\n",
        "# Updating an existing value\n",
        "person['age'] = 31\n",
        "\n",
        "# Removing a key-value pair\n",
        "del person['city']\n",
        "\n",
        "# Iterating over keys\n",
        "for key in person:\n",
        "    print(key)\n",
        "\n",
        "# Iterating over values\n",
        "for value in person.values():\n",
        "    print(value)\n",
        "\n",
        "# Iterating over key-value pairs\n",
        "for key, value in person.items():\n",
        "    print(key, value)"
      ],
      "metadata": {
        "colab": {
          "base_uri": "https://localhost:8080/"
        },
        "id": "-afzdisVV0DE",
        "outputId": "e876f705-6400-40e4-d3ae-ced4fa4269d1"
      },
      "execution_count": 8,
      "outputs": [
        {
          "output_type": "stream",
          "name": "stdout",
          "text": [
            "Alice\n",
            "30\n",
            "name\n",
            "age\n",
            "email\n",
            "Alice\n",
            "31\n",
            "mithun@example.com\n",
            "name Alice\n",
            "Alice\n",
            "age 31\n",
            "31\n",
            "email mithun@example.com\n",
            "mithun@example.com\n"
          ]
        }
      ]
    },
    {
      "cell_type": "markdown",
      "source": [
        "**Problem on Dict**"
      ],
      "metadata": {
        "id": "Qx_-tYv-Wkfu"
      }
    },
    {
      "cell_type": "code",
      "source": [
        "# Problem 1: Student Information Management\n",
        "# You have a list of dictionaries where each dictionary represents information about a student (name, age, and grades).\n",
        "# Write a Python code to calculate the average grade for each student and add it to their dictionary.\n",
        "\n",
        "# Problem Statement\n",
        "students = [\n",
        "    {'name': 'Alice', 'age': 20, 'grades': [85, 90, 95]},\n",
        "    {'name': 'Bob', 'age': 21, 'grades': [70, 75, 80]},\n",
        "    {'name': 'Charlie', 'age': 22, 'grades': [90, 95, 100]}\n",
        "]\n",
        "\n",
        "# Solution\n",
        "for student in students:\n",
        "    avg_grade = sum(student['grades']) / len(student['grades'])\n",
        "    student['avg_grade'] = avg_grade\n",
        "\n",
        "print(students)\n",
        "\n",
        "\n",
        "# Problem 2: Inventory Management\n",
        "# You have a dictionary representing the inventory of a store (item name as key and quantity as value).\n",
        "# Write a Python code to update the inventory based on sales (given as another dictionary).\n",
        "\n",
        "# Problem Statement\n",
        "inventory = {'apple': 10, 'banana': 20, 'orange': 15}\n",
        "sales = {'apple': 3, 'banana': 5}\n",
        "\n",
        "# Solution\n",
        "for item, quantity_sold in sales.items():\n",
        "    if item in inventory:\n",
        "        inventory[item] -= quantity_sold\n",
        "\n",
        "print(inventory)\n",
        "\n",
        "\n",
        "# Problem 3: Word Frequency Analysis\n",
        "# You have a list of words. Write a Python code to count the frequency of each word and store it in a dictionary.\n",
        "\n",
        "# Problem Statement\n",
        "words = ['apple', 'banana', 'apple', 'orange', 'banana', 'apple']\n",
        "\n",
        "# Solution\n",
        "word_freq = {}\n",
        "for word in words:\n",
        "    if word in word_freq:\n",
        "        word_freq[word] += 1\n",
        "    else:\n",
        "        word_freq[word] = 1\n",
        "\n",
        "print(word_freq)\n"
      ],
      "metadata": {
        "colab": {
          "base_uri": "https://localhost:8080/"
        },
        "id": "gdemjTn8Wkn6",
        "outputId": "775c94cc-478d-4564-e767-4ed5f701923d"
      },
      "execution_count": 11,
      "outputs": [
        {
          "output_type": "stream",
          "name": "stdout",
          "text": [
            "[{'name': 'Alice', 'age': 20, 'grades': [85, 90, 95], 'avg_grade': 90.0}, {'name': 'Bob', 'age': 21, 'grades': [70, 75, 80], 'avg_grade': 75.0}, {'name': 'Charlie', 'age': 22, 'grades': [90, 95, 100], 'avg_grade': 95.0}]\n",
            "{'apple': 7, 'banana': 15, 'orange': 15}\n",
            "{'apple': 3, 'banana': 2, 'orange': 1}\n"
          ]
        }
      ]
    },
    {
      "cell_type": "markdown",
      "source": [
        "**Set**"
      ],
      "metadata": {
        "id": "i3GQQwFxbR_F"
      }
    },
    {
      "cell_type": "code",
      "source": [
        "# Creating a set of integers\n",
        "my_set = {1, 2, 3, 4, 5}\n",
        "print(my_set)  # Output: {1, 2, 3, 4, 5}\n",
        "\n",
        "# Creating a set of strings\n",
        "my_set = {'apple', 'banana', 'orange'}\n",
        "print(my_set)  # Output: {'apple', 'banana', 'orange'}\n",
        "\n",
        "# Creating an empty set\n",
        "empty_set = set()\n",
        "print(empty_set)  # Output: set()\n",
        "\n",
        "# Union of two sets\n",
        "set1 = {1, 2, 3}\n",
        "set2 = {3, 4, 5}\n",
        "union_set = set1.union(set2)\n",
        "print(union_set)  # Output: {1, 2, 3, 4, 5}\n",
        "\n",
        "# Intersection of two sets\n",
        "intersection_set = set1.intersection(set2)\n",
        "print(intersection_set)  # Output: {3}\n",
        "\n",
        "# Difference between two sets\n",
        "difference_set = set1.difference(set2)\n",
        "print(difference_set)  # Output: {1, 2}\n",
        "\n",
        "# Adding elements to a set\n",
        "my_set = {1, 2, 3}\n",
        "my_set.add(4)\n",
        "print(my_set)  # Output: {1, 2, 3, 4}\n",
        "\n",
        "# Removing elements from a set\n",
        "my_set.remove(3)\n",
        "print(my_set)  # Output: {1, 2, 4}\n",
        "\n",
        "# Set comprehension\n",
        "squared_numbers = {x**2 for x in range(5)}\n",
        "print(squared_numbers)  # Output: {0, 1, 4, 9, 16}\n",
        "\n",
        "\n",
        "my_set = {3, 1, 2}\n",
        "\n",
        "# Adding elements to the set\n",
        "my_set.add(4)\n",
        "my_set.add(5)\n",
        "\n",
        "# Removing an element from the set\n",
        "my_set.remove(2)\n",
        "\n",
        "print(my_set)\n",
        "\n"
      ],
      "metadata": {
        "colab": {
          "base_uri": "https://localhost:8080/"
        },
        "id": "VAO3IeQYbSO9",
        "outputId": "02f6d82b-a74d-4589-e6a1-a499d8838258"
      },
      "execution_count": 9,
      "outputs": [
        {
          "output_type": "stream",
          "name": "stdout",
          "text": [
            "{1, 2, 3, 4, 5}\n",
            "{'apple', 'orange', 'banana'}\n",
            "set()\n",
            "{1, 2, 3, 4, 5}\n",
            "{3}\n",
            "{1, 2}\n",
            "{1, 2, 3, 4}\n",
            "{1, 2, 4}\n",
            "{0, 1, 4, 9, 16}\n",
            "{1, 3, 4, 5}\n"
          ]
        }
      ]
    }
  ]
}